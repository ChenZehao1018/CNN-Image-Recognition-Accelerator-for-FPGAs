{
 "cells": [
  {
   "cell_type": "code",
   "execution_count": 1,
   "metadata": {},
   "outputs": [],
   "source": [
    "import os\n",
    "import torch\n",
    "from torch import nn\n",
    "import torch.nn.functional as F\n",
    "from torch.utils.data import Dataset\n",
    "from torch.utils.data import DataLoader\n",
    "from torch.utils.data import Subset\n",
    "from torchvision import datasets, transforms\n",
    "from torchvision.transforms import ToTensor\n",
    "import torch.optim as optim\n",
    "from tqdm import tqdm  # For nice progress bar!\n",
    "import matplotlib.pyplot as plt\n",
    "import numpy as np\n",
    "from fxpmath import Fxp # conver to fixed point"
   ]
  },
  {
   "cell_type": "code",
   "execution_count": 2,
   "metadata": {},
   "outputs": [],
   "source": [
    "tf = transforms.Compose([ToTensor()])\n",
    "mnist_train = datasets.MNIST('mnist_data/', download=True, train=True, transform=tf)\n",
    "mnist_test = datasets.MNIST('mnist_data/', download=True, train=False, transform=tf)"
   ]
  },
  {
   "attachments": {},
   "cell_type": "markdown",
   "metadata": {},
   "source": [
    "### Reduced targeted labels"
   ]
  },
  {
   "cell_type": "code",
   "execution_count": 3,
   "metadata": {},
   "outputs": [],
   "source": [
    "targets = [0, 1, 2]\n",
    "train_indices = [i for i, label in enumerate(mnist_train.targets) if label in targets]\n",
    "mnist_train_sub = Subset(mnist_train, train_indices)\n",
    "test_indices = [i for i, label in enumerate(mnist_test.targets) if label in targets]\n",
    "mnist_test_sub = Subset(mnist_test, test_indices)"
   ]
  },
  {
   "cell_type": "code",
   "execution_count": 4,
   "metadata": {},
   "outputs": [
    {
     "name": "stdout",
     "output_type": "stream",
     "text": [
      "Using cpu device\n"
     ]
    }
   ],
   "source": [
    "device = 'cuda' if torch.cuda.is_available() else 'cpu'\n",
    "print('Using {} device'.format(device))"
   ]
  },
  {
   "cell_type": "code",
   "execution_count": 5,
   "metadata": {},
   "outputs": [],
   "source": [
    "train_set = torch.utils.data.DataLoader(mnist_train_sub, batch_size=256, shuffle=True)\n",
    "test_set = torch.utils.data.DataLoader(mnist_test_sub, batch_size=256, shuffle=True)"
   ]
  },
  {
   "attachments": {},
   "cell_type": "markdown",
   "metadata": {},
   "source": [
    "## First version of CNN"
   ]
  },
  {
   "cell_type": "code",
   "execution_count": null,
   "metadata": {},
   "outputs": [],
   "source": [
    "mg_size = 16\n",
    "hidden_size = 16\n",
    "\n",
    "class ConvNN(nn.Module):\n",
    "    def __init__(self):\n",
    "        super(ConvNN, self).__init__()\n",
    "        self.conv = nn.Conv2d(1, 1, (3,3), stride=2)\n",
    "        self.pool1 = nn.MaxPool2d(kernel_size=(2, 2), stride=2)\n",
    "        self.pool2 = nn.MaxPool2d(kernel_size=(2, 2), stride=2, padding=1)\n",
    "        self.NN = nn.Linear(hidden_size, 10, bias=False)\n",
    "        \n",
    "\n",
    "    def forward(self, x):\n",
    "        x = F.relu(self.conv(x))\n",
    "        x = self.pool1(x)\n",
    "        x = self.pool2(x)\n",
    "        x = x.reshape(x.shape[0], -1)\n",
    "        x = self.NN(x)\n",
    "        return x\n",
    "    \n",
    "# Test\n",
    "x = torch.randn(256, 1, 28, 28)\n",
    "model = ConvNN()\n",
    "print(model(x).shape)"
   ]
  },
  {
   "cell_type": "code",
   "execution_count": 41,
   "metadata": {},
   "outputs": [
    {
     "name": "stdout",
     "output_type": "stream",
     "text": [
      "ConvNN(\n",
      "  (conv): Conv2d(1, 1, kernel_size=(3, 3), stride=(2, 2))\n",
      "  (pool1): MaxPool2d(kernel_size=(2, 2), stride=2, padding=0, dilation=1, ceil_mode=False)\n",
      "  (pool2): MaxPool2d(kernel_size=(2, 2), stride=2, padding=0, dilation=1, ceil_mode=False)\n",
      "  (NN): Linear(in_features=16, out_features=10, bias=False)\n",
      ")\n"
     ]
    }
   ],
   "source": [
    "model = ConvNN().to(device)\n",
    "print(model)"
   ]
  },
  {
   "cell_type": "code",
   "execution_count": 68,
   "metadata": {},
   "outputs": [
    {
     "name": "stderr",
     "output_type": "stream",
     "text": [
      "100%|██████████| 235/235 [00:33<00:00,  7.10it/s]\n",
      "100%|██████████| 235/235 [00:30<00:00,  7.72it/s]\n",
      "100%|██████████| 235/235 [00:24<00:00,  9.43it/s]\n",
      "100%|██████████| 235/235 [00:27<00:00,  8.59it/s]\n",
      "100%|██████████| 235/235 [00:26<00:00,  8.76it/s]\n",
      "100%|██████████| 235/235 [00:31<00:00,  7.58it/s]\n",
      "100%|██████████| 235/235 [00:39<00:00,  6.01it/s]\n",
      "100%|██████████| 235/235 [00:34<00:00,  6.85it/s]\n",
      "100%|██████████| 235/235 [00:37<00:00,  6.32it/s]\n",
      "100%|██████████| 235/235 [00:43<00:00,  5.38it/s]\n",
      "100%|██████████| 235/235 [00:49<00:00,  4.75it/s]\n",
      "100%|██████████| 235/235 [00:27<00:00,  8.63it/s]\n",
      "100%|██████████| 235/235 [00:28<00:00,  8.34it/s]\n",
      "100%|██████████| 235/235 [00:27<00:00,  8.54it/s]\n",
      "100%|██████████| 235/235 [00:29<00:00,  8.00it/s]\n",
      "100%|██████████| 235/235 [00:32<00:00,  7.30it/s]\n",
      "100%|██████████| 235/235 [00:32<00:00,  7.21it/s]\n",
      "100%|██████████| 235/235 [00:29<00:00,  7.94it/s]\n",
      "100%|██████████| 235/235 [00:27<00:00,  8.63it/s]\n",
      "100%|██████████| 235/235 [00:29<00:00,  7.87it/s]\n",
      "100%|██████████| 235/235 [00:30<00:00,  7.79it/s]\n",
      "100%|██████████| 235/235 [00:25<00:00,  9.26it/s]\n",
      "100%|██████████| 235/235 [00:43<00:00,  5.37it/s]\n",
      "100%|██████████| 235/235 [00:37<00:00,  6.23it/s]\n",
      "100%|██████████| 235/235 [00:29<00:00,  8.03it/s]\n",
      "100%|██████████| 235/235 [00:25<00:00,  9.07it/s]\n",
      "100%|██████████| 235/235 [00:29<00:00,  7.97it/s]\n",
      "100%|██████████| 235/235 [00:26<00:00,  8.87it/s]\n",
      "100%|██████████| 235/235 [00:31<00:00,  7.42it/s]\n",
      "100%|██████████| 235/235 [00:30<00:00,  7.60it/s]\n",
      "100%|██████████| 235/235 [00:30<00:00,  7.68it/s]\n",
      "100%|██████████| 235/235 [00:33<00:00,  7.10it/s]\n",
      "100%|██████████| 235/235 [00:35<00:00,  6.55it/s]\n",
      "100%|██████████| 235/235 [00:26<00:00,  8.77it/s]\n",
      "100%|██████████| 235/235 [00:39<00:00,  5.88it/s]\n",
      "100%|██████████| 235/235 [00:43<00:00,  5.44it/s]\n",
      "100%|██████████| 235/235 [00:24<00:00,  9.71it/s]\n",
      "100%|██████████| 235/235 [00:28<00:00,  8.13it/s]\n",
      "100%|██████████| 235/235 [00:29<00:00,  7.85it/s]\n",
      "100%|██████████| 235/235 [00:37<00:00,  6.28it/s]\n",
      "100%|██████████| 235/235 [00:31<00:00,  7.38it/s]\n",
      "100%|██████████| 235/235 [00:27<00:00,  8.54it/s]\n",
      "100%|██████████| 235/235 [00:35<00:00,  6.63it/s]\n",
      "100%|██████████| 235/235 [00:24<00:00,  9.44it/s]\n",
      "100%|██████████| 235/235 [00:33<00:00,  7.06it/s]\n",
      "100%|██████████| 235/235 [00:31<00:00,  7.38it/s]\n",
      "100%|██████████| 235/235 [00:25<00:00,  9.23it/s]\n",
      "100%|██████████| 235/235 [00:30<00:00,  7.61it/s]\n",
      "100%|██████████| 235/235 [00:42<00:00,  5.54it/s]\n",
      "100%|██████████| 235/235 [00:41<00:00,  5.63it/s]\n",
      "100%|██████████| 235/235 [00:30<00:00,  7.76it/s]\n",
      "100%|██████████| 235/235 [00:34<00:00,  6.87it/s]\n",
      "100%|██████████| 235/235 [00:29<00:00,  7.92it/s]\n",
      "100%|██████████| 235/235 [00:26<00:00,  8.83it/s]\n",
      "100%|██████████| 235/235 [00:39<00:00,  6.00it/s]\n",
      "100%|██████████| 235/235 [00:26<00:00,  8.87it/s]\n",
      "100%|██████████| 235/235 [00:28<00:00,  8.36it/s]\n",
      "100%|██████████| 235/235 [00:33<00:00,  6.95it/s]\n",
      "100%|██████████| 235/235 [00:33<00:00,  7.02it/s]\n",
      "100%|██████████| 235/235 [00:25<00:00,  9.05it/s]\n",
      "100%|██████████| 235/235 [00:31<00:00,  7.43it/s]\n",
      "100%|██████████| 235/235 [00:28<00:00,  8.37it/s]\n",
      "100%|██████████| 235/235 [00:26<00:00,  8.98it/s]\n",
      "100%|██████████| 235/235 [00:28<00:00,  8.28it/s]\n",
      "100%|██████████| 235/235 [00:30<00:00,  7.66it/s]\n",
      "100%|██████████| 235/235 [00:26<00:00,  8.93it/s]\n",
      "100%|██████████| 235/235 [00:33<00:00,  7.08it/s]\n",
      "100%|██████████| 235/235 [00:49<00:00,  4.78it/s]\n",
      "100%|██████████| 235/235 [00:42<00:00,  5.48it/s]\n",
      "100%|██████████| 235/235 [00:28<00:00,  8.33it/s]\n",
      "100%|██████████| 235/235 [00:26<00:00,  8.87it/s]\n",
      "100%|██████████| 235/235 [00:29<00:00,  8.08it/s]\n",
      "100%|██████████| 235/235 [00:36<00:00,  6.35it/s]\n",
      "100%|██████████| 235/235 [00:27<00:00,  8.52it/s]\n",
      "100%|██████████| 235/235 [00:22<00:00, 10.25it/s]\n",
      "100%|██████████| 235/235 [00:29<00:00,  8.10it/s]\n",
      "100%|██████████| 235/235 [00:31<00:00,  7.46it/s]\n",
      "100%|██████████| 235/235 [00:27<00:00,  8.42it/s]\n",
      "100%|██████████| 235/235 [00:29<00:00,  7.89it/s]\n",
      "100%|██████████| 235/235 [00:26<00:00,  8.84it/s]\n",
      "100%|██████████| 235/235 [00:27<00:00,  8.45it/s]\n",
      "100%|██████████| 235/235 [00:37<00:00,  6.27it/s]\n",
      "100%|██████████| 235/235 [00:26<00:00,  8.74it/s]\n",
      "100%|██████████| 235/235 [00:27<00:00,  8.45it/s]\n",
      "100%|██████████| 235/235 [00:29<00:00,  8.07it/s]\n",
      "100%|██████████| 235/235 [00:20<00:00, 11.26it/s]\n",
      "100%|██████████| 235/235 [00:27<00:00,  8.70it/s]\n",
      "100%|██████████| 235/235 [00:31<00:00,  7.42it/s]\n",
      "100%|██████████| 235/235 [00:32<00:00,  7.32it/s]\n",
      "100%|██████████| 235/235 [00:35<00:00,  6.63it/s]\n",
      "100%|██████████| 235/235 [00:32<00:00,  7.12it/s]\n",
      "100%|██████████| 235/235 [00:28<00:00,  8.25it/s]\n",
      "100%|██████████| 235/235 [00:27<00:00,  8.60it/s]\n",
      "100%|██████████| 235/235 [00:26<00:00,  8.87it/s]\n",
      "100%|██████████| 235/235 [00:30<00:00,  7.81it/s]\n",
      "100%|██████████| 235/235 [00:26<00:00,  8.71it/s]\n",
      "100%|██████████| 235/235 [00:34<00:00,  6.73it/s]\n",
      "100%|██████████| 235/235 [00:27<00:00,  8.40it/s]\n",
      "100%|██████████| 235/235 [00:35<00:00,  6.60it/s]\n",
      "100%|██████████| 235/235 [00:27<00:00,  8.40it/s]\n"
     ]
    },
    {
     "name": "stdout",
     "output_type": "stream",
     "text": [
      "Accuracy on training set: 69.76%\n",
      "Accuracy on test set: 70.09%\n"
     ]
    }
   ],
   "source": [
    "# hyperparameters\n",
    "num_epochs = 100\n",
    "learning_rate = 1e-3\n",
    "\n",
    "# Loss and optimizer\n",
    "criterion = nn.CrossEntropyLoss()\n",
    "optimizer = optim.Adam(model.parameters(), lr=learning_rate)\n",
    "\n",
    "epoch_scores = []\n",
    "epoch_loss = []\n",
    "\n",
    "# Train Network\n",
    "for epoch in range(num_epochs):\n",
    "    for batch_idx, (data, targets) in enumerate(tqdm(train_set)):\n",
    "        # Get data to cuda if possible\n",
    "        data = data.to(device=device)\n",
    "        targets = targets.to(device=device)\n",
    "\n",
    "        # forward\n",
    "        scores = model(data)\n",
    "        epoch_scores.append(scores)\n",
    "        loss = criterion(scores, targets)\n",
    "        epoch_loss.append(loss)\n",
    "\n",
    "        # backward\n",
    "        optimizer.zero_grad()\n",
    "        loss.backward()\n",
    "\n",
    "        # gradient descent or adam step\n",
    "        optimizer.step()\n",
    "\n",
    "# Check accuracy on training & test to see how good our model\n",
    "def check_accuracy(loader, model):\n",
    "    num_correct = 0\n",
    "    num_samples = 0\n",
    "    model.eval()\n",
    "\n",
    "    with torch.no_grad():\n",
    "        for x, y in loader:\n",
    "            x = x.to(device=device)\n",
    "            y = y.to(device=device)\n",
    "\n",
    "            scores = model(x)\n",
    "            _, predictions = scores.max(1)\n",
    "            num_correct += (predictions == y).sum()\n",
    "            num_samples += predictions.size(0)\n",
    "\n",
    "    model.train()\n",
    "    return num_correct / num_samples\n",
    "\n",
    "\n",
    "print(f\"Accuracy on training set: {check_accuracy(train_set, model)*100:.2f}%\")\n",
    "print(f\"Accuracy on test set: {check_accuracy(test_set, model)*100:.2f}%\")"
   ]
  },
  {
   "cell_type": "code",
   "execution_count": null,
   "metadata": {},
   "outputs": [],
   "source": [
    "torch.save(model, 'trained_CNNv1.pth')"
   ]
  },
  {
   "attachments": {},
   "cell_type": "markdown",
   "metadata": {},
   "source": [
    "## Second version of CNN"
   ]
  },
  {
   "cell_type": "code",
   "execution_count": 4,
   "metadata": {},
   "outputs": [
    {
     "name": "stdout",
     "output_type": "stream",
     "text": [
      "torch.Size([256, 10])\n"
     ]
    }
   ],
   "source": [
    "mg_size = 16\n",
    "hidden_size = 16\n",
    "\n",
    "class ConvNNv2(nn.Module):\n",
    "    def __init__(self):\n",
    "        super(ConvNNv2, self).__init__()\n",
    "        self.conv = nn.Conv2d(1, 1, (5,5), stride=1)\n",
    "        self.pool1 = nn.MaxPool2d(kernel_size=(2, 2), stride=2)\n",
    "        self.pool2 = nn.MaxPool2d(kernel_size=(3, 3), stride=3)\n",
    "        self.NN = nn.Linear(hidden_size, 10, bias=False)\n",
    "        \n",
    "\n",
    "    def forward(self, x):\n",
    "        x = F.relu(self.conv(x))\n",
    "        x = self.pool1(x)\n",
    "        x = self.pool2(x)\n",
    "        x = x.reshape(x.shape[0], -1)\n",
    "        x = self.NN(x)\n",
    "        return x\n",
    "\n",
    "# Test\n",
    "x = torch.randn(256, 1, 28, 28)\n",
    "model = ConvNNv2()\n",
    "print(model(x).shape)"
   ]
  },
  {
   "cell_type": "code",
   "execution_count": 76,
   "metadata": {},
   "outputs": [
    {
     "name": "stdout",
     "output_type": "stream",
     "text": [
      "ConvNNv2(\n",
      "  (conv): Conv2d(1, 1, kernel_size=(5, 5), stride=(1, 1))\n",
      "  (pool1): MaxPool2d(kernel_size=(2, 2), stride=2, padding=0, dilation=1, ceil_mode=False)\n",
      "  (pool2): MaxPool2d(kernel_size=(3, 3), stride=3, padding=0, dilation=1, ceil_mode=False)\n",
      "  (NN): Linear(in_features=16, out_features=10, bias=False)\n",
      ")\n"
     ]
    }
   ],
   "source": [
    "model = ConvNNv2().to(device)\n",
    "print(model)"
   ]
  },
  {
   "cell_type": "code",
   "execution_count": 79,
   "metadata": {},
   "outputs": [
    {
     "name": "stderr",
     "output_type": "stream",
     "text": [
      "100%|██████████| 235/235 [00:48<00:00,  4.83it/s]\n",
      "100%|██████████| 235/235 [00:48<00:00,  4.81it/s]\n",
      "100%|██████████| 235/235 [00:50<00:00,  4.69it/s]\n",
      "100%|██████████| 235/235 [00:36<00:00,  6.40it/s]\n",
      "100%|██████████| 235/235 [00:46<00:00,  5.05it/s]\n",
      "100%|██████████| 235/235 [00:48<00:00,  4.88it/s]\n",
      "100%|██████████| 235/235 [00:47<00:00,  4.91it/s]\n",
      "100%|██████████| 235/235 [00:51<00:00,  4.60it/s]\n",
      "100%|██████████| 235/235 [00:45<00:00,  5.14it/s]\n",
      "100%|██████████| 235/235 [00:40<00:00,  5.87it/s]\n",
      "100%|██████████| 235/235 [00:45<00:00,  5.22it/s]\n",
      "100%|██████████| 235/235 [00:45<00:00,  5.13it/s]\n",
      "100%|██████████| 235/235 [00:48<00:00,  4.86it/s]\n",
      "100%|██████████| 235/235 [00:45<00:00,  5.21it/s]\n",
      "100%|██████████| 235/235 [00:48<00:00,  4.80it/s]\n",
      "100%|██████████| 235/235 [00:42<00:00,  5.50it/s]\n",
      "100%|██████████| 235/235 [00:39<00:00,  5.95it/s]\n",
      "100%|██████████| 235/235 [00:47<00:00,  4.93it/s]\n",
      "100%|██████████| 235/235 [00:42<00:00,  5.49it/s]\n",
      "100%|██████████| 235/235 [00:39<00:00,  5.97it/s]\n",
      "100%|██████████| 235/235 [00:39<00:00,  5.88it/s]\n",
      "100%|██████████| 235/235 [00:36<00:00,  6.42it/s]\n",
      "100%|██████████| 235/235 [00:36<00:00,  6.42it/s]\n",
      "100%|██████████| 235/235 [00:43<00:00,  5.45it/s]\n",
      "100%|██████████| 235/235 [00:47<00:00,  4.95it/s]\n",
      "100%|██████████| 235/235 [00:46<00:00,  5.05it/s]\n",
      "100%|██████████| 235/235 [00:33<00:00,  7.04it/s]\n",
      "100%|██████████| 235/235 [00:42<00:00,  5.52it/s]\n",
      "100%|██████████| 235/235 [00:40<00:00,  5.82it/s]\n",
      "100%|██████████| 235/235 [00:37<00:00,  6.18it/s]\n",
      "100%|██████████| 235/235 [00:45<00:00,  5.14it/s]\n",
      "100%|██████████| 235/235 [00:45<00:00,  5.17it/s]\n",
      "100%|██████████| 235/235 [00:39<00:00,  5.95it/s]\n",
      "100%|██████████| 235/235 [00:37<00:00,  6.23it/s]\n",
      "100%|██████████| 235/235 [00:37<00:00,  6.24it/s]\n",
      "100%|██████████| 235/235 [00:35<00:00,  6.56it/s]\n",
      "100%|██████████| 235/235 [00:40<00:00,  5.85it/s]\n",
      "100%|██████████| 235/235 [00:43<00:00,  5.44it/s]\n",
      "100%|██████████| 235/235 [00:49<00:00,  4.73it/s]\n",
      "100%|██████████| 235/235 [00:40<00:00,  5.76it/s]\n",
      "100%|██████████| 235/235 [00:43<00:00,  5.43it/s]\n",
      "100%|██████████| 235/235 [00:42<00:00,  5.52it/s]\n",
      "100%|██████████| 235/235 [00:40<00:00,  5.83it/s]\n",
      "100%|██████████| 235/235 [00:41<00:00,  5.66it/s]\n",
      "100%|██████████| 235/235 [00:47<00:00,  4.97it/s]\n",
      "100%|██████████| 235/235 [00:43<00:00,  5.38it/s]\n",
      "100%|██████████| 235/235 [00:48<00:00,  4.88it/s]\n",
      "100%|██████████| 235/235 [00:43<00:00,  5.38it/s]\n",
      "100%|██████████| 235/235 [00:49<00:00,  4.76it/s]\n",
      "100%|██████████| 235/235 [00:43<00:00,  5.38it/s]\n",
      "100%|██████████| 235/235 [00:43<00:00,  5.35it/s]\n",
      "100%|██████████| 235/235 [00:48<00:00,  4.82it/s]\n",
      "100%|██████████| 235/235 [00:43<00:00,  5.39it/s]\n",
      "100%|██████████| 235/235 [00:44<00:00,  5.24it/s]\n",
      "100%|██████████| 235/235 [00:47<00:00,  4.98it/s]\n",
      "100%|██████████| 235/235 [00:48<00:00,  4.86it/s]\n",
      "100%|██████████| 235/235 [00:44<00:00,  5.32it/s]\n",
      "100%|██████████| 235/235 [01:55<00:00,  2.04it/s]\n",
      "100%|██████████| 235/235 [03:06<00:00,  1.26it/s]\n",
      "100%|██████████| 235/235 [02:32<00:00,  1.54it/s]\n",
      "100%|██████████| 235/235 [02:31<00:00,  1.55it/s]\n",
      "100%|██████████| 235/235 [02:13<00:00,  1.76it/s]\n",
      "100%|██████████| 235/235 [00:53<00:00,  4.42it/s]\n",
      "100%|██████████| 235/235 [00:52<00:00,  4.46it/s]\n",
      "100%|██████████| 235/235 [00:49<00:00,  4.77it/s]\n",
      "100%|██████████| 235/235 [00:52<00:00,  4.43it/s]\n",
      "100%|██████████| 235/235 [00:52<00:00,  4.47it/s]\n",
      "100%|██████████| 235/235 [00:53<00:00,  4.40it/s]\n",
      "100%|██████████| 235/235 [00:53<00:00,  4.41it/s]\n",
      "100%|██████████| 235/235 [00:57<00:00,  4.07it/s]\n",
      "100%|██████████| 235/235 [02:40<00:00,  1.46it/s]\n",
      "100%|██████████| 235/235 [02:22<00:00,  1.65it/s]\n",
      "100%|██████████| 235/235 [02:26<00:00,  1.60it/s]\n",
      "100%|██████████| 235/235 [02:25<00:00,  1.61it/s]\n",
      "100%|██████████| 235/235 [01:12<00:00,  3.22it/s]\n",
      "100%|██████████| 235/235 [02:20<00:00,  1.67it/s]\n",
      "100%|██████████| 235/235 [02:46<00:00,  1.41it/s]\n",
      "100%|██████████| 235/235 [02:31<00:00,  1.56it/s]\n",
      "100%|██████████| 235/235 [02:21<00:00,  1.67it/s]\n",
      "100%|██████████| 235/235 [02:26<00:00,  1.61it/s]\n",
      "100%|██████████| 235/235 [02:20<00:00,  1.67it/s]\n",
      "100%|██████████| 235/235 [02:31<00:00,  1.56it/s]\n",
      "100%|██████████| 235/235 [02:13<00:00,  1.76it/s]\n",
      "100%|██████████| 235/235 [02:30<00:00,  1.56it/s]\n",
      "100%|██████████| 235/235 [02:19<00:00,  1.68it/s]\n",
      "100%|██████████| 235/235 [02:24<00:00,  1.63it/s]\n",
      "100%|██████████| 235/235 [02:23<00:00,  1.64it/s]\n",
      "100%|██████████| 235/235 [02:23<00:00,  1.64it/s]\n",
      "100%|██████████| 235/235 [02:32<00:00,  1.54it/s]\n",
      "100%|██████████| 235/235 [02:27<00:00,  1.59it/s]\n",
      "100%|██████████| 235/235 [02:29<00:00,  1.57it/s]\n",
      "100%|██████████| 235/235 [02:09<00:00,  1.81it/s]\n",
      "100%|██████████| 235/235 [02:29<00:00,  1.58it/s]\n",
      "100%|██████████| 235/235 [02:23<00:00,  1.64it/s]\n",
      "100%|██████████| 235/235 [02:24<00:00,  1.63it/s]\n",
      "100%|██████████| 235/235 [02:08<00:00,  1.83it/s]\n",
      "100%|██████████| 235/235 [02:17<00:00,  1.70it/s]\n",
      "100%|██████████| 235/235 [02:09<00:00,  1.81it/s]\n",
      "100%|██████████| 235/235 [02:21<00:00,  1.66it/s]\n",
      "100%|██████████| 235/235 [01:51<00:00,  2.10it/s]\n"
     ]
    },
    {
     "name": "stdout",
     "output_type": "stream",
     "text": [
      "Accuracy on training set: 78.92%\n",
      "Accuracy on test set: 80.20%\n"
     ]
    }
   ],
   "source": [
    "# hyperparameters\n",
    "num_epochs = 100\n",
    "learning_rate = 1e-3\n",
    "\n",
    "# Loss and optimizer\n",
    "criterion = nn.CrossEntropyLoss()\n",
    "optimizer = optim.Adam(model.parameters(), lr=learning_rate)\n",
    "\n",
    "epoch_scores = []\n",
    "epoch_loss = []\n",
    "\n",
    "# Train Network\n",
    "for epoch in range(num_epochs):\n",
    "    for batch_idx, (data, targets) in enumerate(tqdm(train_set)):\n",
    "        # Get data to cuda if possible\n",
    "        data = data.to(device=device)\n",
    "        targets = targets.to(device=device)\n",
    "\n",
    "        # forward\n",
    "        scores = model(data)\n",
    "        epoch_scores.append(scores)\n",
    "        loss = criterion(scores, targets)\n",
    "        epoch_loss.append(loss)\n",
    "\n",
    "        # backward\n",
    "        optimizer.zero_grad()\n",
    "        loss.backward()\n",
    "\n",
    "        # gradient descent or adam step\n",
    "        optimizer.step()\n",
    "        \n",
    "# Check accuracy on training & test to see how good our model\n",
    "def check_accuracy(loader, model):\n",
    "    num_correct = 0\n",
    "    num_samples = 0\n",
    "    model.eval()\n",
    "\n",
    "    with torch.no_grad():\n",
    "        for x, y in loader:\n",
    "            x = x.to(device=device)\n",
    "            y = y.to(device=device)\n",
    "\n",
    "            scores = model(x)\n",
    "            _, predictions = scores.max(1)\n",
    "            num_correct += (predictions == y).sum()\n",
    "            num_samples += predictions.size(0)\n",
    "\n",
    "    model.train()\n",
    "    return num_correct / num_samples\n",
    "\n",
    "\n",
    "print(f\"Accuracy on training set: {check_accuracy(train_set, model)*100:.2f}%\")\n",
    "print(f\"Accuracy on test set: {check_accuracy(test_set, model)*100:.2f}%\")"
   ]
  },
  {
   "cell_type": "code",
   "execution_count": null,
   "metadata": {},
   "outputs": [],
   "source": [
    "plt.plot(epoch_losses)"
   ]
  },
  {
   "attachments": {},
   "cell_type": "markdown",
   "metadata": {},
   "source": [
    "## Third version of CNN"
   ]
  },
  {
   "cell_type": "code",
   "execution_count": 6,
   "metadata": {},
   "outputs": [
    {
     "name": "stdout",
     "output_type": "stream",
     "text": [
      "torch.Size([256, 3])\n"
     ]
    }
   ],
   "source": [
    "mg_size = 16\n",
    "hidden_size = 16\n",
    "\n",
    "class ConvNNv3(nn.Module):\n",
    "    def __init__(self):\n",
    "        super(ConvNNv3, self).__init__()\n",
    "        self.conv = nn.Conv2d(1, 1, (7,7), stride=7)\n",
    "        self.NN = nn.Linear(hidden_size, 3, bias=False)\n",
    "        \n",
    "\n",
    "    def forward(self, x):\n",
    "        x = F.relu(self.conv(x))\n",
    "        x = x.reshape(x.shape[0], -1)\n",
    "        x = self.NN(x)\n",
    "        return x\n",
    "\n",
    "# Test\n",
    "x = torch.randn(256, 1, 28, 28)\n",
    "model = ConvNNv3()\n",
    "print(model(x).shape)"
   ]
  },
  {
   "cell_type": "code",
   "execution_count": 38,
   "metadata": {},
   "outputs": [
    {
     "name": "stderr",
     "output_type": "stream",
     "text": [
      "100%|██████████| 73/73 [00:08<00:00,  8.18it/s]\n",
      "100%|██████████| 73/73 [00:18<00:00,  3.92it/s]\n",
      "100%|██████████| 73/73 [00:07<00:00,  9.15it/s]\n",
      "100%|██████████| 73/73 [00:10<00:00,  6.66it/s]\n",
      "100%|██████████| 73/73 [00:22<00:00,  3.23it/s]\n",
      "100%|██████████| 73/73 [00:19<00:00,  3.81it/s]\n",
      "100%|██████████| 73/73 [00:12<00:00,  5.85it/s]\n",
      "100%|██████████| 73/73 [00:11<00:00,  6.19it/s]\n",
      "100%|██████████| 73/73 [00:15<00:00,  4.59it/s]\n",
      "100%|██████████| 73/73 [00:13<00:00,  5.32it/s]\n",
      "100%|██████████| 73/73 [00:10<00:00,  6.68it/s]\n",
      "100%|██████████| 73/73 [00:18<00:00,  3.94it/s]\n",
      "100%|██████████| 73/73 [00:12<00:00,  5.85it/s]\n",
      "100%|██████████| 73/73 [00:16<00:00,  4.43it/s]\n",
      "100%|██████████| 73/73 [00:12<00:00,  6.03it/s]\n",
      "100%|██████████| 73/73 [00:10<00:00,  6.79it/s]\n",
      "100%|██████████| 73/73 [00:07<00:00,  9.17it/s]\n",
      "100%|██████████| 73/73 [00:06<00:00, 11.56it/s]\n",
      "100%|██████████| 73/73 [00:06<00:00, 11.02it/s]\n",
      "100%|██████████| 73/73 [00:06<00:00, 11.30it/s]\n",
      "100%|██████████| 73/73 [00:06<00:00, 10.81it/s]\n",
      "100%|██████████| 73/73 [00:05<00:00, 12.33it/s]\n",
      "100%|██████████| 73/73 [00:06<00:00, 12.13it/s]\n",
      "100%|██████████| 73/73 [00:06<00:00, 11.55it/s]\n",
      "100%|██████████| 73/73 [00:07<00:00,  9.85it/s]\n",
      "100%|██████████| 73/73 [00:06<00:00, 11.12it/s]\n",
      "100%|██████████| 73/73 [00:06<00:00, 11.66it/s]\n",
      "100%|██████████| 73/73 [00:06<00:00, 11.14it/s]\n",
      "100%|██████████| 73/73 [00:06<00:00, 12.13it/s]\n",
      "100%|██████████| 73/73 [00:06<00:00, 12.04it/s]\n",
      "100%|██████████| 73/73 [00:06<00:00, 11.11it/s]\n",
      "100%|██████████| 73/73 [00:06<00:00, 11.02it/s]\n",
      "100%|██████████| 73/73 [00:12<00:00,  5.80it/s]\n",
      "100%|██████████| 73/73 [00:17<00:00,  4.08it/s]\n",
      "100%|██████████| 73/73 [00:18<00:00,  3.92it/s]\n",
      "100%|██████████| 73/73 [00:19<00:00,  3.65it/s]\n",
      "100%|██████████| 73/73 [00:13<00:00,  5.44it/s]\n",
      "100%|██████████| 73/73 [00:13<00:00,  5.56it/s]\n",
      "100%|██████████| 73/73 [00:14<00:00,  4.95it/s]\n",
      "100%|██████████| 73/73 [00:12<00:00,  5.69it/s]\n",
      "100%|██████████| 73/73 [00:12<00:00,  5.94it/s]\n",
      "100%|██████████| 73/73 [00:11<00:00,  6.28it/s]\n",
      "100%|██████████| 73/73 [00:11<00:00,  6.33it/s]\n",
      "100%|██████████| 73/73 [00:06<00:00, 12.09it/s]\n",
      "100%|██████████| 73/73 [00:05<00:00, 12.38it/s]\n",
      "100%|██████████| 73/73 [00:05<00:00, 12.27it/s]\n",
      "100%|██████████| 73/73 [00:05<00:00, 12.49it/s]\n",
      "100%|██████████| 73/73 [00:06<00:00, 11.01it/s]\n",
      "100%|██████████| 73/73 [00:05<00:00, 12.90it/s]\n",
      "100%|██████████| 73/73 [00:05<00:00, 12.73it/s]\n",
      "100%|██████████| 73/73 [00:05<00:00, 13.03it/s]\n",
      "100%|██████████| 73/73 [00:05<00:00, 13.26it/s]\n",
      "100%|██████████| 73/73 [00:05<00:00, 12.55it/s]\n",
      "100%|██████████| 73/73 [00:05<00:00, 12.47it/s]\n",
      "100%|██████████| 73/73 [00:05<00:00, 12.58it/s]\n",
      "100%|██████████| 73/73 [00:05<00:00, 12.49it/s]\n",
      "100%|██████████| 73/73 [00:05<00:00, 12.99it/s]\n",
      "100%|██████████| 73/73 [00:05<00:00, 12.27it/s]\n",
      "100%|██████████| 73/73 [00:06<00:00, 11.86it/s]\n",
      "100%|██████████| 73/73 [00:05<00:00, 12.27it/s]\n",
      "100%|██████████| 73/73 [00:05<00:00, 12.73it/s]\n",
      "100%|██████████| 73/73 [00:05<00:00, 12.74it/s]\n",
      "100%|██████████| 73/73 [00:05<00:00, 12.58it/s]\n",
      "100%|██████████| 73/73 [00:05<00:00, 12.70it/s]\n",
      "100%|██████████| 73/73 [00:05<00:00, 12.84it/s]\n",
      "100%|██████████| 73/73 [00:05<00:00, 12.92it/s]\n",
      "100%|██████████| 73/73 [00:05<00:00, 12.44it/s]\n",
      "100%|██████████| 73/73 [00:05<00:00, 12.85it/s]\n",
      "100%|██████████| 73/73 [00:05<00:00, 12.35it/s]\n",
      "100%|██████████| 73/73 [00:05<00:00, 12.81it/s]\n",
      "100%|██████████| 73/73 [00:06<00:00, 11.56it/s]\n",
      "100%|██████████| 73/73 [00:05<00:00, 12.67it/s]\n",
      "100%|██████████| 73/73 [00:05<00:00, 12.93it/s]\n",
      "100%|██████████| 73/73 [00:05<00:00, 12.73it/s]\n",
      "100%|██████████| 73/73 [00:05<00:00, 12.33it/s]\n",
      "100%|██████████| 73/73 [00:05<00:00, 12.76it/s]\n",
      "100%|██████████| 73/73 [00:05<00:00, 12.74it/s]\n",
      "100%|██████████| 73/73 [00:06<00:00, 12.07it/s]\n",
      "100%|██████████| 73/73 [00:05<00:00, 12.39it/s]\n",
      "100%|██████████| 73/73 [00:05<00:00, 12.81it/s]\n",
      "100%|██████████| 73/73 [00:05<00:00, 12.85it/s]\n",
      "100%|██████████| 73/73 [00:06<00:00, 11.63it/s]\n",
      "100%|██████████| 73/73 [00:05<00:00, 12.65it/s]\n",
      "100%|██████████| 73/73 [00:06<00:00, 12.12it/s]\n",
      "100%|██████████| 73/73 [00:09<00:00,  7.37it/s]\n",
      "100%|██████████| 73/73 [00:09<00:00,  7.58it/s]\n",
      "100%|██████████| 73/73 [00:10<00:00,  7.19it/s]\n",
      "100%|██████████| 73/73 [00:10<00:00,  6.94it/s]\n",
      "100%|██████████| 73/73 [00:10<00:00,  6.89it/s]\n",
      "100%|██████████| 73/73 [00:11<00:00,  6.23it/s]\n",
      "100%|██████████| 73/73 [00:09<00:00,  7.80it/s]\n",
      "100%|██████████| 73/73 [00:06<00:00, 11.82it/s]\n",
      "100%|██████████| 73/73 [00:09<00:00,  8.05it/s]\n",
      "100%|██████████| 73/73 [00:07<00:00, 10.11it/s]\n",
      "100%|██████████| 73/73 [00:05<00:00, 12.80it/s]\n",
      "100%|██████████| 73/73 [00:05<00:00, 12.51it/s]\n",
      "100%|██████████| 73/73 [00:05<00:00, 12.58it/s]\n",
      "100%|██████████| 73/73 [00:06<00:00, 11.78it/s]\n",
      "100%|██████████| 73/73 [00:06<00:00, 11.78it/s]\n",
      "100%|██████████| 73/73 [00:05<00:00, 12.74it/s]\n"
     ]
    },
    {
     "name": "stdout",
     "output_type": "stream",
     "text": [
      "Accuracy on training set: 96.94%\n",
      "Accuracy on test set: 97.20%\n"
     ]
    }
   ],
   "source": [
    "# hyperparameters\n",
    "num_epochs = 100\n",
    "learning_rate = 1e-3\n",
    "\n",
    "# Loss and optimizer\n",
    "criterion = nn.CrossEntropyLoss()\n",
    "optimizer = optim.Adam(model.parameters(), lr=learning_rate)\n",
    "\n",
    "epoch_scores = []\n",
    "epoch_loss = []\n",
    "\n",
    "# Train Network\n",
    "for epoch in range(num_epochs):\n",
    "    for batch_idx, (data, targets) in enumerate(tqdm(train_set)):\n",
    "        # Get data to cuda if possible\n",
    "        data = data.to(device=device)\n",
    "        targets = targets.to(device=device)\n",
    "\n",
    "        # forward\n",
    "        scores = model(data)\n",
    "        epoch_scores.append(scores)\n",
    "        loss = criterion(scores, targets)\n",
    "        epoch_loss.append(loss)\n",
    "\n",
    "        # backward\n",
    "        optimizer.zero_grad()\n",
    "        loss.backward()\n",
    "\n",
    "        # gradient descent or adam step\n",
    "        optimizer.step()\n",
    "        \n",
    "# Check accuracy on training & test to see how good our model\n",
    "def check_accuracy(loader, model):\n",
    "    num_correct = 0\n",
    "    num_samples = 0\n",
    "    model.eval()\n",
    "\n",
    "    with torch.no_grad():\n",
    "        for x, y in loader:\n",
    "            x = x.to(device=device)\n",
    "            y = y.to(device=device)\n",
    "\n",
    "            scores = model(x)\n",
    "            _, predictions = scores.max(1)\n",
    "            num_correct += (predictions == y).sum()\n",
    "            num_samples += predictions.size(0)\n",
    "\n",
    "    model.train()\n",
    "    return num_correct / num_samples\n",
    "\n",
    "\n",
    "print(f\"Accuracy on training set: {check_accuracy(train_set, model)*100:.2f}%\")\n",
    "print(f\"Accuracy on test set: {check_accuracy(test_set, model)*100:.2f}%\")"
   ]
  },
  {
   "attachments": {},
   "cell_type": "markdown",
   "metadata": {},
   "source": [
    "### Save the model"
   ]
  },
  {
   "cell_type": "code",
   "execution_count": 1,
   "metadata": {},
   "outputs": [
    {
     "ename": "NameError",
     "evalue": "name 'torch' is not defined",
     "output_type": "error",
     "traceback": [
      "\u001b[1;31m---------------------------------------------------------------------------\u001b[0m",
      "\u001b[1;31mNameError\u001b[0m                                 Traceback (most recent call last)",
      "Cell \u001b[1;32mIn[1], line 1\u001b[0m\n\u001b[1;32m----> 1\u001b[0m torch\u001b[39m.\u001b[39msave(model, \u001b[39m'\u001b[39m\u001b[39mtrained_model_CNNv3.pth\u001b[39m\u001b[39m'\u001b[39m)\n\u001b[0;32m      2\u001b[0m torch\u001b[39m.\u001b[39msave(model\u001b[39m.\u001b[39mstate_dict(), \u001b[39m'\u001b[39m\u001b[39mtrained_model_CNNv3_stateDict.pth\u001b[39m\u001b[39m'\u001b[39m)\n\u001b[0;32m      4\u001b[0m convWeights \u001b[39m=\u001b[39m model\u001b[39m.\u001b[39mconv\u001b[39m.\u001b[39mweight\n",
      "\u001b[1;31mNameError\u001b[0m: name 'torch' is not defined"
     ]
    }
   ],
   "source": [
    "torch.save(model, 'trained_model_CNNv3.pth')\n",
    "torch.save(model.state_dict(), 'trained_model_CNNv3_stateDict.pth')\n",
    "\n",
    "convWeights = model.conv.weight\n",
    "NNWeights = model.NN.weight\n",
    "NNBias = model.NN.bias\n",
    "print(f\"Conv weights are: {convWeights.data.numpy()}\")\n",
    "print()\n",
    "print(f\"NN weights are: {NNWeights.data.numpy()}\")\n",
    "print()\n",
    "print(f\"NN bias are: {NNBias.data.numpy()}\")# there is no bias activated"
   ]
  },
  {
   "attachments": {},
   "cell_type": "markdown",
   "metadata": {},
   "source": [
    "### Load the trained model"
   ]
  },
  {
   "cell_type": "code",
   "execution_count": 7,
   "metadata": {},
   "outputs": [
    {
     "name": "stdout",
     "output_type": "stream",
     "text": [
      "ConvNNv3(\n",
      "  (conv): Conv2d(1, 1, kernel_size=(7, 7), stride=(7, 7))\n",
      "  (NN): Linear(in_features=16, out_features=3, bias=False)\n",
      ")\n",
      "\n",
      "Conv weights are: [[[[-1.1298487  -0.27229133  0.28714627  0.37493512  0.907366\n",
      "     0.1431789   0.5347539 ]\n",
      "   [-0.2581845  -0.4241132  -0.10635767 -0.34131074  0.02841576\n",
      "     0.21795687  1.1256728 ]\n",
      "   [ 0.08687092 -0.12886696 -0.18294106  0.01583078  0.14978798\n",
      "     0.2600748   1.822983  ]\n",
      "   [ 0.02083484 -0.23739645 -0.07607995  0.03428378  0.33496696\n",
      "     0.12257625  1.507085  ]\n",
      "   [ 0.09251168 -0.10718158  0.1141251   0.16347924  0.19863708\n",
      "     0.08806781  1.1991171 ]\n",
      "   [ 0.19172686 -0.1688782  -0.16837654  0.19224697  0.09232251\n",
      "    -0.24064474  0.6898716 ]\n",
      "   [ 0.11634796  0.15621877  0.32756346  0.45236462 -0.01670279\n",
      "    -0.03087329  1.1322131 ]]]]\n",
      "\n",
      "NN weights are: [[-1.1708761  -0.11018552 -0.1340647  -0.06756116  0.3034926   0.22939438\n",
      "   0.22623716 -0.06675144  0.6924737  -0.80566144  0.787699   -0.96738493\n",
      "  -0.4626782   0.55083805 -0.01935794 -0.6140885 ]\n",
      " [ 0.5845825  -0.6278944  -0.16487497  1.3738074  -0.39733022  0.01982391\n",
      "  -0.5668211  -0.07740854 -0.5817984   0.24467559 -1.5793062   0.42918614\n",
      "   0.20654063 -0.2838261  -0.2258676   1.1652552 ]\n",
      " [-0.24211721  0.5505759  -0.2768999  -1.7206484   0.06268372 -0.38855788\n",
      "   0.01366592  0.0326157   0.58268404  0.30764765  0.70122194  0.2658134\n",
      "  -0.0905917  -0.11125002  0.22172555 -0.94411045]]\n"
     ]
    }
   ],
   "source": [
    "model = ConvNNv3().to(device)\n",
    "model = torch.load('trained_model_CNNv3.pth', map_location=torch.device(device))\n",
    "print(f\"{model}\\n\")\n",
    "convWeights = model.conv.weight\n",
    "NNWeights = model.NN.weight\n",
    "NNBias = model.NN.bias\n",
    "print(f\"Conv weights are: {convWeights.data.numpy()}\")\n",
    "print()\n",
    "print(f\"NN weights are: {NNWeights.data.numpy()}\")"
   ]
  },
  {
   "cell_type": "code",
   "execution_count": 8,
   "metadata": {},
   "outputs": [
    {
     "data": {
      "text/plain": [
       "['0x0001DA4C']"
      ]
     },
     "execution_count": 8,
     "metadata": {},
     "output_type": "execute_result"
    }
   ],
   "source": [
    "convBias = Fxp(model.state_dict()['conv.bias'].data.numpy(), signed=True, n_int=15, n_frac=16)\n",
    "convBias.hex()"
   ]
  },
  {
   "attachments": {},
   "cell_type": "markdown",
   "metadata": {},
   "source": [
    "### Convert to Fixed point Q7.8 (signed)"
   ]
  },
  {
   "cell_type": "code",
   "execution_count": 28,
   "metadata": {},
   "outputs": [],
   "source": [
    "def weightsToVHDL(listWeights):\n",
    "    listWeights = np.flip(listWeights)\n",
    "    outputStr = \"(\"\n",
    "    for row in listWeights:\n",
    "        for weight in row:\n",
    "            outputStr += f'X\"{weight[2:]}\", '\n",
    "        outputStr += \"\\n \"\n",
    "    outputStr = outputStr[0:-4]\n",
    "    outputStr += \");\\n\"\n",
    "    print(outputStr)"
   ]
  },
  {
   "cell_type": "code",
   "execution_count": 29,
   "metadata": {},
   "outputs": [],
   "source": [
    "def ValsToHFile(listVals, varName):\n",
    "    outputStr = f\"static uint16_t {varName}[] = \" + \"{\\n\"\n",
    "    for row in listVals:\n",
    "        for val in row:\n",
    "            outputStr += f'{val}, '\n",
    "            # print(weight)\n",
    "        outputStr += \"\\n \"\n",
    "    outputStr = outputStr[0:-4]\n",
    "    outputStr += \"\\n};\"\n",
    "    print(outputStr, \"\\n\")\n",
    "    pass"
   ]
  },
  {
   "attachments": {},
   "cell_type": "markdown",
   "metadata": {},
   "source": [
    "# Just below here Zehao"
   ]
  },
  {
   "cell_type": "code",
   "execution_count": 30,
   "metadata": {},
   "outputs": [
    {
     "name": "stdout",
     "output_type": "stream",
     "text": [
      "Covolutional filter weights:\n",
      "(X\"0121\", X\"FFF9\", X\"FFFC\", X\"0073\", X\"0053\", X\"0027\", X\"001D\", \n",
      " X\"00B0\", X\"FFC3\", X\"0017\", X\"0031\", X\"FFD5\", X\"FFD5\", X\"0031\", \n",
      " X\"0132\", X\"0016\", X\"0032\", X\"0029\", X\"001D\", X\"FFE5\", X\"0017\", \n",
      " X\"0181\", X\"001F\", X\"0055\", X\"0008\", X\"FFED\", X\"FFC4\", X\"0005\", \n",
      " X\"01D2\", X\"0042\", X\"0026\", X\"0004\", X\"FFD2\", X\"FFE0\", X\"0016\", \n",
      " X\"0120\", X\"0037\", X\"0007\", X\"FFA9\", X\"FFE5\", X\"FF94\", X\"FFBE\", \n",
      " X\"0088\", X\"0024\", X\"00E8\", X\"005F\", X\"0049\", X\"FFBB\", X\"FEDF\");\n",
      "\n",
      "\n",
      "NN weights:\n",
      "static uint16_t nnWeights[] = {\n",
      "0xFED5, 0xFFE4, 0xFFDE, 0xFFEF, 0x004D, 0x003A, 0x0039, 0xFFEF, 0x00B1, 0xFF32, 0x00C9, 0xFF09, 0xFF8A, 0x008D, 0xFFFC, 0xFF63, \n",
      " 0x0095, 0xFF60, 0xFFD6, 0x015F, 0xFF9B, 0x0005, 0xFF6F, 0xFFED, 0xFF6C, 0x003E, 0xFE6C, 0x006D, 0x0034, 0xFFB8, 0xFFC7, 0x012A, \n",
      " 0xFFC3, 0x008C, 0xFFBA, 0xFE48, 0x0010, 0xFF9D, 0x0003, 0x0008, 0x0095, 0x004E, 0x00B3, 0x0044, 0xFFE9, 0xFFE4, 0x0038, 0xFF0F\n",
      "}; \n",
      "\n"
     ]
    },
    {
     "data": {
      "text/plain": [
       "' Just for testing '"
      ]
     },
     "execution_count": 30,
     "metadata": {},
     "output_type": "execute_result"
    }
   ],
   "source": [
    "fxpconvWeights = Fxp(convWeights.data.numpy()[0], signed=True, n_int=7, n_frac=8)\n",
    "fxpNNWeights = Fxp(NNWeights.data.numpy(), signed=True, n_int=7, n_frac=8)\n",
    "# fxpconvWeights = Fxp(convWeights.data.numpy()[0], signed=True, n_int=7, n_frac=8)\n",
    "# fxpNNWeights = Fxp(NNWeights.data.numpy(), signed=True, n_int=7, n_frac=8)\n",
    "\n",
    "print(f\"Covolutional filter weights:\")\n",
    "weightsToVHDL(fxpconvWeights.hex()[0])\n",
    "\n",
    "print(f\"\\nNN weights:\")\n",
    "#weightsToVHDL(fxpNNWeights.hex())\n",
    "ValsToHFile(fxpNNWeights.hex(), \"nnWeights\")\n",
    "\n",
    "\"\"\" Just for testing \"\"\"\n",
    "# test_image1 = np.flip(imgs[idx1].data.numpy()[0])\n",
    "# rearranged_test_image1 = rearrange_image_for_memory(test_image1, 7)\n",
    "# fxpTest_image1 = Fxp(rearranged_test_image1, signed=True, n_int=7, n_frac=8)\n",
    "# print(\"testImage1:\")\n",
    "# weightsToVHDL(fxpTest_image1.hex())\n",
    "\n",
    "# test_image0 = np.flip(imgs[idx0].data.numpy()[0])\n",
    "# rearranged_test_image0 = rearrange_image_for_memory(test_image0, 7)\n",
    "# fxpTest_image0 = Fxp(rearranged_test_image0, signed=True, n_int=7, n_frac=8)\n",
    "# print(\"testImage0:\")\n",
    "# weightsToVHDL(fxpTest_image0.hex())\n",
    "\n",
    "# test_image2 = np.flip(imgs[idx2].data.numpy()[0])\n",
    "# rearranged_test_image2 = rearrange_image_for_memory(test_image2, 7)\n",
    "# fxpTest_image2 = Fxp(rearranged_test_image2, signed=True, n_int=7, n_frac=8)\n",
    "# print(\"testImage2:\")\n",
    "# weightsToVHDL(fxpTest_image2.hex())"
   ]
  },
  {
   "attachments": {},
   "cell_type": "markdown",
   "metadata": {},
   "source": [
    "### Convolution filter test bench"
   ]
  },
  {
   "cell_type": "code",
   "execution_count": 35,
   "metadata": {},
   "outputs": [
    {
     "name": "stdout",
     "output_type": "stream",
     "text": [
      "22.265625\n",
      "\tdtype\t\t=\tfxp-s32/16\n",
      "\tValue\t\t=\t165.08984375\n",
      "\textended_prec\t=\tTrue\n",
      "\n",
      "\tSigned\t\t=\tTrue\n",
      "\tWord bits\t=\t32\n",
      "\tFract bits\t=\t16\n",
      "\tInt bits\t=\t15\n",
      "\tVal data type\t=\t<class 'float'>\n",
      "\n",
      "\tUpper\t\t=\t32767.99998474121\n",
      "\tLower\t\t=\t-32768.0\n",
      "\tPrecision\t=\t1.52587890625e-05\n",
      "\tOverflow\t=\tsaturate\n",
      "\tRounding\t=\ttrunc\n",
      "\tShifting\t=\texpand\n",
      "\n",
      "None\n"
     ]
    }
   ],
   "source": [
    "def test_all_1(conv_weights):\n",
    "    conv_res = Fxp(0, signed=True, n_int=15, n_frac=16)\n",
    "    for row in conv_weights:\n",
    "        for weight in row:\n",
    "            conv_res += weight\n",
    "    return conv_res\n",
    "\n",
    "def test_all_i(conv_weights):\n",
    "    conv_res = Fxp(0, signed=True, n_int=15, n_frac=16)\n",
    "    for i in range(len(conv_weights)):\n",
    "        for j in range(len(conv_weights[0])):\n",
    "            # print(conv_res)\n",
    "            conv_res(conv_res + conv_weights[i][j]*(i+j))\n",
    "            conv_res.resize(True, n_int=15, n_frac=16)\n",
    "    return conv_res\n",
    "\n",
    "def convolve(image, conv_filter):\n",
    "    convolved_res = []\n",
    "    for i in range(len(image)/len(conv_filter)):\n",
    "        convolved_res.append(Fxp(np.multiply(image[i*len(conv_filter): i*len(conv_filter)], conv_filter, signed=True, n_int=7, n_frac=8)))\n",
    "    print(convolved_res)\n",
    "    \n",
    "print(test_all_1(fxpconvWeights[0]))\n",
    "x = test_all_i(fxpconvWeights[0])\n",
    "# x.resize(True, 7, 8)\n",
    "print(x.info(verbose=3))\n",
    "x.resize()"
   ]
  },
  {
   "attachments": {},
   "cell_type": "markdown",
   "metadata": {},
   "source": [
    "## Select a random image for hardware test"
   ]
  },
  {
   "cell_type": "code",
   "execution_count": 12,
   "metadata": {},
   "outputs": [],
   "source": [
    "import random\n",
    "imgs, labs = next(iter(test_set))\n",
    "idx = random.randint(0, len(imgs))"
   ]
  },
  {
   "cell_type": "code",
   "execution_count": 18,
   "metadata": {},
   "outputs": [
    {
     "name": "stdout",
     "output_type": "stream",
     "text": [
      "torch.Size([256, 1, 28, 28]) torch.Size([256]) image id: 60\n",
      "12.6 µs ± 2.93 µs per loop (mean ± std. dev. of 7 runs, 100,000 loops each)\n",
      "predicted: tensor([[  7.3093, -14.1804,  -1.5944]], grad_fn=<MmBackward0>) vs label: 0\n"
     ]
    },
    {
     "data": {
      "image/png": "[encoded data removed]",
      "text/plain": [
       "<Figure size 640x480 with 1 Axes>"
      ]
     },
     "metadata": {},
     "output_type": "display_data"
    }
   ],
   "source": [
    "idx0 = 60\n",
    "print(imgs.shape, labs.shape, f\"image id: {idx0}\")\n",
    "plt.imshow(imgs[idx0].squeeze())\n",
    "pred0 = model(imgs[idx0].to(device))\n",
    "%timeit prediction = torch.argmax(pred0.cpu()) #Check how long it takes to predicit\n",
    "prediction0 = pred0.cpu()\n",
    "print(f\"predicted: {prediction0} vs label: {labs[idx0]}\")"
   ]
  },
  {
   "cell_type": "code",
   "execution_count": 21,
   "metadata": {},
   "outputs": [
    {
     "name": "stdout",
     "output_type": "stream",
     "text": [
      "torch.Size([256, 1, 28, 28]) torch.Size([256]) image id: 205\n",
      "predicted: 2 vs label: 2\n"
     ]
    },
    {
     "data": {
      "image/png": "[encoded data removed]",
      "text/plain": [
       "<Figure size 640x480 with 1 Axes>"
      ]
     },
     "metadata": {},
     "output_type": "display_data"
    }
   ],
   "source": [
    "idx2 = 205\n",
    "print(imgs.shape, labs.shape, f\"image id: {idx2}\")\n",
    "plt.imshow(imgs[idx2].squeeze())\n",
    "pred2 = model(imgs[idx2].to(device))\n",
    "#%timeit prediction = torch.argmax(pred2.cpu()) #Check how long it takes to predicit\n",
    "prediction2 = torch.argmax(pred2.cpu())\n",
    "print(f\"predicted: {prediction2} vs label: {labs[idx2]}\")"
   ]
  },
  {
   "cell_type": "code",
   "execution_count": 25,
   "metadata": {},
   "outputs": [
    {
     "name": "stdout",
     "output_type": "stream",
     "text": [
      "torch.Size([256, 1, 28, 28]) torch.Size([256]) image id: 7\n",
      "21.5 µs ± 2.89 µs per loop (mean ± std. dev. of 7 runs, 10,000 loops each)\n",
      "predicted: 1 vs label: 1\n",
      "predictions:tensor([[-8.2463,  3.8467, -2.9030]], grad_fn=<MmBackward0>)\n"
     ]
    },
    {
     "data": {
      "image/png": "[encoded data removed]",
      "text/plain": [
       "<Figure size 640x480 with 1 Axes>"
      ]
     },
     "metadata": {},
     "output_type": "display_data"
    }
   ],
   "source": [
    "idx1 = 7\n",
    "print(imgs.shape, labs.shape, f\"image id: {idx1}\")\n",
    "plt.imshow(imgs[idx1].squeeze())\n",
    "pred1 = model(imgs[idx1].to(device))\n",
    "%timeit prediction = torch.argmax(pred1.cpu()) #Check how long it takes to predicit\n",
    "prediction1 = torch.argmax(pred1.cpu())\n",
    "print(f\"predicted: {prediction1} vs label: {labs[idx1]}\")\n",
    "print(f\"predictions:{pred1.cpu()}\")"
   ]
  },
  {
   "cell_type": "code",
   "execution_count": 26,
   "metadata": {},
   "outputs": [],
   "source": [
    "def rearrange_image_for_memory(image, window_width):\n",
    "    nbWindowRows = int(len(image)/window_width) # assuming both are square\n",
    "    nbWindowCols = int(len(image[0])/window_width) # assuming both are square\n",
    "    rearranged_image = np.zeros((nbWindowRows*nbWindowCols, window_width**2)) # each new row in array is a new window\n",
    "    for i in range(nbWindowRows):\n",
    "        for j in range(nbWindowCols):\n",
    "            rearranged_image[i*nbWindowCols + j, :] = image[i*window_width:(i+1)*window_width, j*window_width:(j+1)*window_width].flatten()\n",
    "    return rearranged_image\n",
    "\n",
    "# tester = np.reshape(np.arange(4*4),(4,4))\n",
    "# tester_window = int(2)\n",
    "# print(tester)\n",
    "# rearrange_image_for_memory(tester, tester_window)"
   ]
  },
  {
   "cell_type": "code",
   "execution_count": 27,
   "metadata": {},
   "outputs": [
    {
     "name": "stdout",
     "output_type": "stream",
     "text": [
      "static uint16_t testImage0[] = {\n",
      "0x0000, 0x0000, 0x0000, 0x0000, 0x0000, 0x0000, 0x0000, 0x0000, 0x0000, 0x0000, 0x0000, 0x0000, 0x0000, 0x0000, 0x0000, 0x0000, 0x0000, 0x0000, 0x0000, 0x0000, 0x0000, 0x0000, 0x0000, 0x0000, 0x0000, 0x0000, 0x0000, 0x0000, 0x0000, 0x0000, 0x0000, 0x0000, 0x0000, 0x0000, 0x0000, 0x0000, 0x0000, 0x0000, 0x0000, 0x0000, 0x0000, 0x0000, 0x0000, 0x0000, 0x0000, 0x0000, 0x0000, 0x0000, 0x0000, \n",
      " 0x0000, 0x0000, 0x0000, 0x0000, 0x0000, 0x0000, 0x0000, 0x0000, 0x0000, 0x0000, 0x0000, 0x0000, 0x0000, 0x0000, 0x0000, 0x0000, 0x0000, 0x0000, 0x0000, 0x0000, 0x0000, 0x0000, 0x0000, 0x0000, 0x0000, 0x0000, 0x0000, 0x0000, 0x0000, 0x0000, 0x0000, 0x0000, 0x0000, 0x0000, 0x0000, 0x0000, 0x0000, 0x0000, 0x0000, 0x0000, 0x0000, 0x0000, 0x0000, 0x0000, 0x0000, 0x0000, 0x0000, 0x0000, 0x00C7, \n",
      " 0x0000, 0x0000, 0x0000, 0x0000, 0x0000, 0x0000, 0x0000, 0x0000, 0x0000, 0x0000, 0x0000, 0x0000, 0x0000, 0x0000, 0x0000, 0x0000, 0x0000, 0x0000, 0x0000, 0x0000, 0x0000, 0x0000, 0x0000, 0x0000, 0x0000, 0x0000, 0x0000, 0x0000, 0x0049, 0x00FE, 0x009D, 0x0023, 0x0000, 0x0000, 0x0000, 0x0084, 0x00FD, 0x00FD, 0x00DE, 0x0061, 0x0000, 0x0000, 0x00FB, 0x00FD, 0x00FD, 0x00FD, 0x00FB, 0x009A, 0x0028, \n",
      " 0x0000, 0x0000, 0x0000, 0x0000, 0x0000, 0x0000, 0x0000, 0x0000, 0x0000, 0x0000, 0x0000, 0x0000, 0x0000, 0x0000, 0x0000, 0x0000, 0x0000, 0x0000, 0x0000, 0x0000, 0x0000, 0x0000, 0x0000, 0x0000, 0x0000, 0x0000, 0x0000, 0x0000, 0x0000, 0x0000, 0x0000, 0x0000, 0x0000, 0x0000, 0x0000, 0x0000, 0x0000, 0x0000, 0x0000, 0x0000, 0x0000, 0x0000, 0x0000, 0x0000, 0x0000, 0x0000, 0x0000, 0x0000, 0x0000, \n",
      " 0x0000, 0x0000, 0x0000, 0x0000, 0x0000, 0x0000, 0x0000, 0x0000, 0x0000, 0x0000, 0x0000, 0x0000, 0x0000, 0x0000, 0x0000, 0x0000, 0x0000, 0x0000, 0x0000, 0x0000, 0x0000, 0x0000, 0x0000, 0x0000, 0x0000, 0x0000, 0x0000, 0x0000, 0x0000, 0x0000, 0x0000, 0x0000, 0x0000, 0x0000, 0x0000, 0x0000, 0x0000, 0x0000, 0x0000, 0x0000, 0x0000, 0x0000, 0x0000, 0x0000, 0x0000, 0x0000, 0x0000, 0x0000, 0x0000, \n",
      " 0x0000, 0x0000, 0x0000, 0x0000, 0x0026, 0x0069, 0x00E3, 0x0000, 0x0000, 0x0000, 0x0000, 0x005C, 0x00FD, 0x00FD, 0x0000, 0x0000, 0x0000, 0x0024, 0x00D9, 0x00FD, 0x00FD, 0x0000, 0x0000, 0x0000, 0x00D1, 0x00FD, 0x00FD, 0x00FD, 0x0000, 0x0000, 0x0000, 0x00E4, 0x00FD, 0x00FD, 0x00E5, 0x0000, 0x0000, 0x001E, 0x00EB, 0x00FD, 0x00FD, 0x0047, 0x0000, 0x001D, 0x008F, 0x00FD, 0x00FD, 0x00BB, 0x000B, \n",
      " 0x00FD, 0x00FD, 0x00FD, 0x00FD, 0x00FD, 0x00FD, 0x00D3, 0x00FD, 0x00E4, 0x009B, 0x009B, 0x0084, 0x0080, 0x00E9, 0x00E3, 0x0035, 0x0000, 0x0000, 0x0000, 0x0005, 0x00AE, 0x0089, 0x0000, 0x0000, 0x0000, 0x0000, 0x0000, 0x0035, 0x0024, 0x0000, 0x0000, 0x0000, 0x0000, 0x0000, 0x0017, 0x0000, 0x0000, 0x0000, 0x0000, 0x0000, 0x0000, 0x0000, 0x0000, 0x0000, 0x0000, 0x0000, 0x0000, 0x0000, 0x0000, \n",
      " 0x0000, 0x0000, 0x0000, 0x0000, 0x0000, 0x0000, 0x0000, 0x0026, 0x0000, 0x0000, 0x0000, 0x0000, 0x0000, 0x0000, 0x00D3, 0x0000, 0x0000, 0x0000, 0x0000, 0x0000, 0x0000, 0x00F9, 0x0058, 0x0000, 0x0000, 0x0000, 0x0000, 0x0000, 0x00DF, 0x00D3, 0x0000, 0x0000, 0x0000, 0x0000, 0x0000, 0x009C, 0x00F9, 0x0058, 0x0000, 0x0000, 0x0000, 0x0000, 0x009C, 0x00FD, 0x006E, 0x0000, 0x0000, 0x0000, 0x0000, \n",
      " 0x0000, 0x0000, 0x0000, 0x0000, 0x0000, 0x0000, 0x0000, 0x0000, 0x0000, 0x0000, 0x0000, 0x0000, 0x0000, 0x0000, 0x0000, 0x0000, 0x0000, 0x0000, 0x0000, 0x0000, 0x0000, 0x0000, 0x0000, 0x0000, 0x0000, 0x0000, 0x0000, 0x0000, 0x0000, 0x0000, 0x0000, 0x0000, 0x0000, 0x0000, 0x0000, 0x0000, 0x0000, 0x0000, 0x0000, 0x0000, 0x0000, 0x0000, 0x0000, 0x0000, 0x0000, 0x0000, 0x0000, 0x0000, 0x0000, \n",
      " 0x0000, 0x0070, 0x00FD, 0x00FD, 0x00E8, 0x003F, 0x0000, 0x0000, 0x008A, 0x00FD, 0x00FD, 0x00A2, 0x0000, 0x0000, 0x0000, 0x00F1, 0x00FD, 0x00FD, 0x0048, 0x0000, 0x0000, 0x0000, 0x00F1, 0x00FD, 0x00EE, 0x001B, 0x0000, 0x0000, 0x0000, 0x00F1, 0x00FD, 0x009B, 0x0000, 0x0000, 0x0000, 0x0000, 0x00F1, 0x00FD, 0x008E, 0x0000, 0x0000, 0x0000, 0x0000, 0x00A4, 0x00FD, 0x0023, 0x0000, 0x0000, 0x0011, \n",
      " 0x0000, 0x0000, 0x0000, 0x0000, 0x0000, 0x0000, 0x0019, 0x0000, 0x0000, 0x0000, 0x0000, 0x0000, 0x0000, 0x0080, 0x0000, 0x0000, 0x0000, 0x0000, 0x0000, 0x0033, 0x00E2, 0x0000, 0x0000, 0x0000, 0x0000, 0x0033, 0x00E2, 0x00F8, 0x0000, 0x0000, 0x0008, 0x003C, 0x00E2, 0x00FD, 0x00CC, 0x0008, 0x003C, 0x00B3, 0x00FD, 0x00FD, 0x0094, 0x0023, 0x0099, 0x00FD, 0x00FD, 0x00F9, 0x00D2, 0x0023, 0x0000, \n",
      " 0x00E5, 0x00FD, 0x006E, 0x0000, 0x0000, 0x0000, 0x0000, 0x00FD, 0x00EF, 0x001F, 0x0000, 0x0000, 0x0000, 0x0000, 0x00FD, 0x008F, 0x0000, 0x0000, 0x0000, 0x0000, 0x0000, 0x0085, 0x0023, 0x0000, 0x0000, 0x0000, 0x0000, 0x0000, 0x0000, 0x0000, 0x0000, 0x0000, 0x0000, 0x0000, 0x0000, 0x0000, 0x0000, 0x0000, 0x0000, 0x0000, 0x0000, 0x0000, 0x0000, 0x0000, 0x0000, 0x0000, 0x0000, 0x0000, 0x0000, \n",
      " 0x0000, 0x0000, 0x0000, 0x0000, 0x0000, 0x0000, 0x0000, 0x0000, 0x0000, 0x0000, 0x0000, 0x0000, 0x0000, 0x0000, 0x0000, 0x0000, 0x0000, 0x0000, 0x0000, 0x0000, 0x0000, 0x0000, 0x0000, 0x0000, 0x0000, 0x0000, 0x0000, 0x0000, 0x0000, 0x0000, 0x0000, 0x0000, 0x0000, 0x0000, 0x0000, 0x0000, 0x0000, 0x0000, 0x0000, 0x0000, 0x0000, 0x0000, 0x0000, 0x0000, 0x0000, 0x0000, 0x0000, 0x0000, 0x0000, \n",
      " 0x0000, 0x0070, 0x00FD, 0x00D3, 0x008F, 0x008F, 0x00EA, 0x0000, 0x0070, 0x00FD, 0x00FD, 0x00FD, 0x00FD, 0x00FD, 0x0000, 0x0036, 0x00B0, 0x00FD, 0x00FD, 0x00D1, 0x007B, 0x0000, 0x0000, 0x0000, 0x0000, 0x0000, 0x0000, 0x0000, 0x0000, 0x0000, 0x0000, 0x0000, 0x0000, 0x0000, 0x0000, 0x0000, 0x0000, 0x0000, 0x0000, 0x0000, 0x0000, 0x0000, 0x0000, 0x0000, 0x0000, 0x0000, 0x0000, 0x0000, 0x0000, \n",
      " 0x00FD, 0x00FD, 0x00F3, 0x007C, 0x0000, 0x0000, 0x0000, 0x00D3, 0x0075, 0x001E, 0x0000, 0x0000, 0x0000, 0x0000, 0x0019, 0x0000, 0x0000, 0x0000, 0x0000, 0x0000, 0x0000, 0x0000, 0x0000, 0x0000, 0x0000, 0x0000, 0x0000, 0x0000, 0x0000, 0x0000, 0x0000, 0x0000, 0x0000, 0x0000, 0x0000, 0x0000, 0x0000, 0x0000, 0x0000, 0x0000, 0x0000, 0x0000, 0x0000, 0x0000, 0x0000, 0x0000, 0x0000, 0x0000, 0x0000, \n",
      " 0x0000, 0x0000, 0x0000, 0x0000, 0x0000, 0x0000, 0x0000, 0x0000, 0x0000, 0x0000, 0x0000, 0x0000, 0x0000, 0x0000, 0x0000, 0x0000, 0x0000, 0x0000, 0x0000, 0x0000, 0x0000, 0x0000, 0x0000, 0x0000, 0x0000, 0x0000, 0x0000, 0x0000, 0x0000, 0x0000, 0x0000, 0x0000, 0x0000, 0x0000, 0x0000, 0x0000, 0x0000, 0x0000, 0x0000, 0x0000, 0x0000, 0x0000, 0x0000, 0x0000, 0x0000, 0x0000, 0x0000, 0x0000, 0x0000\n",
      "}; \n",
      "\n",
      "static uint16_t testImage1[] = {\n",
      "0x0000, 0x0000, 0x0000, 0x0000, 0x0000, 0x0000, 0x0000, 0x0000, 0x0000, 0x0000, 0x0000, 0x0000, 0x0000, 0x0000, 0x0000, 0x0000, 0x0000, 0x0000, 0x0000, 0x0000, 0x0000, 0x0000, 0x0000, 0x0000, 0x0000, 0x0000, 0x0000, 0x0000, 0x0000, 0x0000, 0x0000, 0x0000, 0x0000, 0x0000, 0x0000, 0x0000, 0x0000, 0x0000, 0x0000, 0x0000, 0x0000, 0x0000, 0x0000, 0x0000, 0x0000, 0x0000, 0x0000, 0x0000, 0x0000, \n",
      " 0x0000, 0x0000, 0x0000, 0x0000, 0x0000, 0x0000, 0x0000, 0x0000, 0x0000, 0x0000, 0x0000, 0x0000, 0x0000, 0x0000, 0x0000, 0x0000, 0x0000, 0x0000, 0x0000, 0x0000, 0x0000, 0x0000, 0x0000, 0x0000, 0x0000, 0x0000, 0x0000, 0x0000, 0x0000, 0x0000, 0x0000, 0x0000, 0x0000, 0x0000, 0x0000, 0x0000, 0x0000, 0x0000, 0x0000, 0x0000, 0x0000, 0x0000, 0x0000, 0x0000, 0x0000, 0x0000, 0x0000, 0x0000, 0x0000, \n",
      " 0x0000, 0x0000, 0x0000, 0x0000, 0x0000, 0x0000, 0x0000, 0x0000, 0x0000, 0x0000, 0x0000, 0x0000, 0x0000, 0x0000, 0x0000, 0x0000, 0x0000, 0x0000, 0x0000, 0x0000, 0x0000, 0x0000, 0x0000, 0x0000, 0x0000, 0x0000, 0x0000, 0x0000, 0x0000, 0x0100, 0x00F2, 0x0033, 0x0000, 0x0000, 0x0000, 0x000C, 0x00FD, 0x00FC, 0x0060, 0x0000, 0x0000, 0x0000, 0x0079, 0x00FD, 0x00ED, 0x0025, 0x0000, 0x0000, 0x0000, \n",
      " 0x0000, 0x0000, 0x0000, 0x0000, 0x0000, 0x0000, 0x0000, 0x0000, 0x0000, 0x0000, 0x0000, 0x0000, 0x0000, 0x0000, 0x0000, 0x0000, 0x0000, 0x0000, 0x0000, 0x0000, 0x0000, 0x0000, 0x0000, 0x0000, 0x0000, 0x0000, 0x0000, 0x0000, 0x0000, 0x0000, 0x0000, 0x0000, 0x0000, 0x0000, 0x0000, 0x0000, 0x0000, 0x0000, 0x0000, 0x0000, 0x0000, 0x0000, 0x0000, 0x0000, 0x0000, 0x0000, 0x0000, 0x0000, 0x0000, \n",
      " 0x0000, 0x0000, 0x0000, 0x0000, 0x0000, 0x0000, 0x0000, 0x0000, 0x0000, 0x0000, 0x0000, 0x0000, 0x0000, 0x0000, 0x0000, 0x0000, 0x0000, 0x0000, 0x0000, 0x0000, 0x0000, 0x0000, 0x0000, 0x0000, 0x0000, 0x0000, 0x0000, 0x0000, 0x0000, 0x0000, 0x0000, 0x0000, 0x0000, 0x0000, 0x0000, 0x0000, 0x0000, 0x0000, 0x0000, 0x0000, 0x0000, 0x0000, 0x0000, 0x0000, 0x0000, 0x0000, 0x0000, 0x0000, 0x0000, \n",
      " 0x0000, 0x0000, 0x0000, 0x0000, 0x0000, 0x0000, 0x0000, 0x0000, 0x0000, 0x0000, 0x0000, 0x0000, 0x0000, 0x001B, 0x0000, 0x0000, 0x0000, 0x0000, 0x0000, 0x0000, 0x006D, 0x0000, 0x0000, 0x0000, 0x0000, 0x0000, 0x0000, 0x006D, 0x0000, 0x0000, 0x0000, 0x0000, 0x0000, 0x0000, 0x006D, 0x0000, 0x0000, 0x0000, 0x0000, 0x0000, 0x0000, 0x00DA, 0x0000, 0x0000, 0x0000, 0x0000, 0x0000, 0x0000, 0x00E5, \n",
      " 0x00C9, 0x00FD, 0x00E4, 0x0000, 0x0000, 0x0000, 0x0000, 0x00F4, 0x00FD, 0x008D, 0x0000, 0x0000, 0x0000, 0x0000, 0x00FC, 0x00FD, 0x006C, 0x0000, 0x0000, 0x0000, 0x0000, 0x00FC, 0x00FD, 0x006C, 0x0000, 0x0000, 0x0000, 0x0000, 0x00FC, 0x00FD, 0x006C, 0x0000, 0x0000, 0x0000, 0x0000, 0x00FC, 0x00FD, 0x006C, 0x0000, 0x0000, 0x0000, 0x0000, 0x00FC, 0x00FD, 0x006C, 0x0000, 0x0000, 0x0000, 0x0000, \n",
      " 0x0000, 0x0000, 0x0000, 0x0000, 0x0000, 0x0000, 0x0000, 0x0000, 0x0000, 0x0000, 0x0000, 0x0000, 0x0000, 0x0000, 0x0000, 0x0000, 0x0000, 0x0000, 0x0000, 0x0000, 0x0000, 0x0000, 0x0000, 0x0000, 0x0000, 0x0000, 0x0000, 0x0000, 0x0000, 0x0000, 0x0000, 0x0000, 0x0000, 0x0000, 0x0000, 0x0000, 0x0000, 0x0000, 0x0000, 0x0000, 0x0000, 0x0000, 0x0000, 0x0000, 0x0000, 0x0000, 0x0000, 0x0000, 0x0000, \n",
      " 0x0000, 0x0000, 0x0000, 0x0000, 0x0000, 0x0000, 0x0000, 0x0000, 0x0000, 0x0000, 0x0000, 0x0000, 0x0000, 0x0000, 0x0000, 0x0000, 0x0000, 0x0000, 0x0000, 0x0000, 0x0000, 0x0000, 0x0000, 0x0000, 0x0000, 0x0000, 0x0000, 0x0000, 0x0000, 0x0000, 0x0000, 0x0000, 0x0000, 0x0000, 0x0000, 0x0000, 0x0000, 0x0000, 0x0000, 0x0000, 0x0000, 0x0000, 0x0000, 0x0000, 0x0000, 0x0000, 0x0000, 0x0000, 0x0000, \n",
      " 0x0000, 0x0000, 0x0000, 0x0000, 0x0000, 0x0005, 0x00E7, 0x0000, 0x0000, 0x0000, 0x0000, 0x0000, 0x0061, 0x00FC, 0x0000, 0x0000, 0x0000, 0x0000, 0x0000, 0x00AB, 0x00FC, 0x0000, 0x0000, 0x0000, 0x0000, 0x0000, 0x00D9, 0x00FC, 0x0000, 0x0000, 0x0000, 0x0000, 0x0000, 0x00D9, 0x00FC, 0x0000, 0x0000, 0x0000, 0x0000, 0x0000, 0x00D9, 0x00FC, 0x0000, 0x0000, 0x0000, 0x0000, 0x0000, 0x00D9, 0x00FC, \n",
      " 0x00FD, 0x00FE, 0x0067, 0x0000, 0x0000, 0x0000, 0x0000, 0x00FC, 0x00F1, 0x0000, 0x0000, 0x0000, 0x0000, 0x0000, 0x00FC, 0x00E0, 0x0000, 0x0000, 0x0000, 0x0000, 0x0000, 0x00FC, 0x0079, 0x0000, 0x0000, 0x0000, 0x0000, 0x0000, 0x00FC, 0x0023, 0x0000, 0x0000, 0x0000, 0x0000, 0x0000, 0x00FC, 0x0046, 0x0000, 0x0000, 0x0000, 0x0000, 0x0000, 0x00FC, 0x00F1, 0x0000, 0x0000, 0x0000, 0x0000, 0x0000, \n",
      " 0x0000, 0x0000, 0x0000, 0x0000, 0x0000, 0x0000, 0x0000, 0x0000, 0x0000, 0x0000, 0x0000, 0x0000, 0x0000, 0x0000, 0x0000, 0x0000, 0x0000, 0x0000, 0x0000, 0x0000, 0x0000, 0x0000, 0x0000, 0x0000, 0x0000, 0x0000, 0x0000, 0x0000, 0x0000, 0x0000, 0x0000, 0x0000, 0x0000, 0x0000, 0x0000, 0x0000, 0x0000, 0x0000, 0x0000, 0x0000, 0x0000, 0x0000, 0x0000, 0x0000, 0x0000, 0x0000, 0x0000, 0x0000, 0x0000, \n",
      " 0x0000, 0x0000, 0x0000, 0x0000, 0x0000, 0x0000, 0x0000, 0x0000, 0x0000, 0x0000, 0x0000, 0x0000, 0x0000, 0x0000, 0x0000, 0x0000, 0x0000, 0x0000, 0x0000, 0x0000, 0x0000, 0x0000, 0x0000, 0x0000, 0x0000, 0x0000, 0x0000, 0x0000, 0x0000, 0x0000, 0x0000, 0x0000, 0x0000, 0x0000, 0x0000, 0x0000, 0x0000, 0x0000, 0x0000, 0x0000, 0x0000, 0x0000, 0x0000, 0x0000, 0x0000, 0x0000, 0x0000, 0x0000, 0x0000, \n",
      " 0x0000, 0x0000, 0x0000, 0x0000, 0x0000, 0x00D9, 0x00FC, 0x0000, 0x0000, 0x0000, 0x0000, 0x0000, 0x00D9, 0x00FC, 0x0000, 0x0000, 0x0000, 0x0000, 0x0000, 0x0038, 0x00F1, 0x0000, 0x0000, 0x0000, 0x0000, 0x0000, 0x0000, 0x0000, 0x0000, 0x0000, 0x0000, 0x0000, 0x0000, 0x0000, 0x0000, 0x0000, 0x0000, 0x0000, 0x0000, 0x0000, 0x0000, 0x0000, 0x0000, 0x0000, 0x0000, 0x0000, 0x0000, 0x0000, 0x0000, \n",
      " 0x00FC, 0x00F1, 0x0000, 0x0000, 0x0000, 0x0000, 0x0000, 0x00FC, 0x00BD, 0x0000, 0x0000, 0x0000, 0x0000, 0x0000, 0x00FC, 0x0040, 0x0000, 0x0000, 0x0000, 0x0000, 0x0000, 0x0000, 0x0000, 0x0000, 0x0000, 0x0000, 0x0000, 0x0000, 0x0000, 0x0000, 0x0000, 0x0000, 0x0000, 0x0000, 0x0000, 0x0000, 0x0000, 0x0000, 0x0000, 0x0000, 0x0000, 0x0000, 0x0000, 0x0000, 0x0000, 0x0000, 0x0000, 0x0000, 0x0000, \n",
      " 0x0000, 0x0000, 0x0000, 0x0000, 0x0000, 0x0000, 0x0000, 0x0000, 0x0000, 0x0000, 0x0000, 0x0000, 0x0000, 0x0000, 0x0000, 0x0000, 0x0000, 0x0000, 0x0000, 0x0000, 0x0000, 0x0000, 0x0000, 0x0000, 0x0000, 0x0000, 0x0000, 0x0000, 0x0000, 0x0000, 0x0000, 0x0000, 0x0000, 0x0000, 0x0000, 0x0000, 0x0000, 0x0000, 0x0000, 0x0000, 0x0000, 0x0000, 0x0000, 0x0000, 0x0000, 0x0000, 0x0000, 0x0000, 0x0000\n",
      "}; \n",
      "\n",
      "static uint16_t testImage2[] = {\n",
      "0x0000, 0x0000, 0x0000, 0x0000, 0x0000, 0x0000, 0x0000, 0x0000, 0x0000, 0x0000, 0x0000, 0x0000, 0x0000, 0x0000, 0x0000, 0x0000, 0x0000, 0x0000, 0x0000, 0x0000, 0x0000, 0x0000, 0x0000, 0x0000, 0x0000, 0x0000, 0x0000, 0x0000, 0x0000, 0x0000, 0x0000, 0x0000, 0x0000, 0x0000, 0x0000, 0x0000, 0x0000, 0x0000, 0x0000, 0x0000, 0x0000, 0x0000, 0x0000, 0x0000, 0x0000, 0x0000, 0x0000, 0x0000, 0x0000, \n",
      " 0x0000, 0x0000, 0x0000, 0x0000, 0x0000, 0x0000, 0x0000, 0x0000, 0x0000, 0x0000, 0x0000, 0x0000, 0x0000, 0x0000, 0x0000, 0x0000, 0x0000, 0x0000, 0x0000, 0x0000, 0x0000, 0x0000, 0x0000, 0x0000, 0x0000, 0x0000, 0x0000, 0x0000, 0x0000, 0x0000, 0x0000, 0x0000, 0x0000, 0x0000, 0x0000, 0x0000, 0x0000, 0x0000, 0x0000, 0x0000, 0x0000, 0x0000, 0x0000, 0x0000, 0x0000, 0x0000, 0x0000, 0x0000, 0x0000, \n",
      " 0x0000, 0x0000, 0x0000, 0x0000, 0x0000, 0x0000, 0x0000, 0x0000, 0x0000, 0x0000, 0x0000, 0x0000, 0x0000, 0x0000, 0x0000, 0x0000, 0x0000, 0x0000, 0x0000, 0x0000, 0x0000, 0x0000, 0x0000, 0x0000, 0x0040, 0x0080, 0x0040, 0x0000, 0x0000, 0x0000, 0x0000, 0x0080, 0x0100, 0x0100, 0x00BF, 0x0000, 0x0000, 0x0000, 0x0040, 0x0100, 0x0100, 0x0100, 0x0000, 0x0000, 0x0000, 0x0000, 0x0080, 0x0100, 0x0100, \n",
      " 0x0000, 0x0000, 0x0000, 0x0000, 0x0000, 0x0000, 0x0000, 0x0000, 0x0000, 0x0000, 0x0000, 0x0000, 0x0000, 0x0000, 0x0000, 0x0000, 0x0000, 0x0000, 0x0000, 0x0000, 0x0000, 0x0000, 0x0000, 0x0000, 0x0000, 0x0000, 0x0000, 0x0000, 0x0000, 0x0000, 0x0000, 0x0000, 0x0000, 0x0000, 0x0000, 0x00BF, 0x0000, 0x0000, 0x0000, 0x0000, 0x0000, 0x0000, 0x0100, 0x0080, 0x0000, 0x0000, 0x0000, 0x0000, 0x0000, \n",
      " 0x0000, 0x0000, 0x0000, 0x0000, 0x0000, 0x0000, 0x0000, 0x0000, 0x0000, 0x0000, 0x0000, 0x0000, 0x0000, 0x0000, 0x0000, 0x0000, 0x0000, 0x0000, 0x0000, 0x0000, 0x0000, 0x0000, 0x0000, 0x0000, 0x0000, 0x0000, 0x0000, 0x0000, 0x0000, 0x0000, 0x0000, 0x0000, 0x0000, 0x0000, 0x0040, 0x0000, 0x0000, 0x0000, 0x0000, 0x0000, 0x0000, 0x0100, 0x0000, 0x0000, 0x0000, 0x0000, 0x0000, 0x0080, 0x0100, \n",
      " 0x0000, 0x0000, 0x0000, 0x0000, 0x0000, 0x0000, 0x0000, 0x0000, 0x0000, 0x0000, 0x0000, 0x0000, 0x0000, 0x0000, 0x0000, 0x0000, 0x0000, 0x0040, 0x0000, 0x0000, 0x0000, 0x0040, 0x00BF, 0x0100, 0x0100, 0x0100, 0x00BF, 0x0040, 0x00BF, 0x0100, 0x0100, 0x0100, 0x0100, 0x0100, 0x0100, 0x0100, 0x0100, 0x0100, 0x00BF, 0x0100, 0x0100, 0x0100, 0x0100, 0x00BF, 0x0000, 0x0000, 0x0000, 0x0040, 0x0100, \n",
      " 0x0000, 0x0000, 0x0000, 0x0000, 0x0000, 0x00BF, 0x0100, 0x0000, 0x0000, 0x0000, 0x0000, 0x0000, 0x0080, 0x0100, 0x0000, 0x0000, 0x0000, 0x0000, 0x0000, 0x00BF, 0x0100, 0x0000, 0x0000, 0x0000, 0x0000, 0x0000, 0x0100, 0x0100, 0x00BF, 0x0000, 0x0000, 0x0000, 0x00BF, 0x0100, 0x0100, 0x0100, 0x00BF, 0x0000, 0x0040, 0x0100, 0x0100, 0x0100, 0x0100, 0x0100, 0x0100, 0x0100, 0x0100, 0x0100, 0x0100, \n",
      " 0x0100, 0x0080, 0x0000, 0x0000, 0x0000, 0x0000, 0x0000, 0x0100, 0x0080, 0x0000, 0x0000, 0x0000, 0x0000, 0x0000, 0x0100, 0x0080, 0x0000, 0x0000, 0x0000, 0x0000, 0x0000, 0x0100, 0x0080, 0x0000, 0x0000, 0x0000, 0x0000, 0x0000, 0x0100, 0x0000, 0x0000, 0x0000, 0x0000, 0x0000, 0x0000, 0x00BF, 0x0000, 0x0000, 0x0000, 0x0000, 0x0000, 0x0000, 0x0040, 0x0000, 0x0000, 0x0000, 0x0000, 0x0000, 0x0000, \n",
      " 0x0000, 0x0000, 0x0000, 0x0000, 0x0080, 0x0100, 0x0100, 0x0000, 0x0000, 0x0000, 0x0000, 0x00BF, 0x0100, 0x0100, 0x0000, 0x0000, 0x0000, 0x0000, 0x0100, 0x0100, 0x00BF, 0x0000, 0x0000, 0x0000, 0x0000, 0x00BF, 0x0100, 0x0080, 0x0000, 0x0000, 0x0000, 0x0000, 0x0080, 0x0100, 0x0100, 0x0000, 0x0000, 0x0000, 0x0000, 0x0080, 0x0100, 0x0100, 0x0000, 0x0000, 0x0000, 0x0000, 0x0000, 0x00BF, 0x0100, \n",
      " 0x0080, 0x0000, 0x0000, 0x0000, 0x0000, 0x0000, 0x00BF, 0x0040, 0x0000, 0x0000, 0x0000, 0x0000, 0x0000, 0x0080, 0x0000, 0x0000, 0x0000, 0x0000, 0x0000, 0x0080, 0x00BF, 0x0000, 0x0000, 0x0040, 0x00BF, 0x0100, 0x0100, 0x0100, 0x0100, 0x0100, 0x0100, 0x0100, 0x0100, 0x0100, 0x0100, 0x0100, 0x0100, 0x0100, 0x0100, 0x0100, 0x0100, 0x0100, 0x0100, 0x0100, 0x0100, 0x0100, 0x0100, 0x00BF, 0x0040, \n",
      " 0x0100, 0x0100, 0x0100, 0x0100, 0x0100, 0x0100, 0x00BF, 0x0100, 0x0100, 0x0100, 0x0100, 0x0100, 0x00BF, 0x0000, 0x0100, 0x0100, 0x0100, 0x0100, 0x0100, 0x0080, 0x0000, 0x0100, 0x0100, 0x0100, 0x0100, 0x0100, 0x0100, 0x0040, 0x0100, 0x0100, 0x0100, 0x0100, 0x0100, 0x0100, 0x0100, 0x0080, 0x0000, 0x0000, 0x0040, 0x0100, 0x0100, 0x0100, 0x0000, 0x0000, 0x0000, 0x0000, 0x0080, 0x0080, 0x0100, \n",
      " 0x0000, 0x0000, 0x0000, 0x0000, 0x0000, 0x0000, 0x0000, 0x0000, 0x0000, 0x0000, 0x0000, 0x0000, 0x0000, 0x0000, 0x0000, 0x0000, 0x0000, 0x0000, 0x0000, 0x0000, 0x0000, 0x0000, 0x0000, 0x0000, 0x0000, 0x0000, 0x0000, 0x0000, 0x0100, 0x0080, 0x0040, 0x0000, 0x0000, 0x0000, 0x0000, 0x0100, 0x0100, 0x0100, 0x0000, 0x0000, 0x0000, 0x0000, 0x0100, 0x00BF, 0x0080, 0x0000, 0x0000, 0x0000, 0x0000, \n",
      " 0x0000, 0x0000, 0x0000, 0x0000, 0x0000, 0x0000, 0x0080, 0x0000, 0x0000, 0x0000, 0x0000, 0x0000, 0x0000, 0x0000, 0x0000, 0x0000, 0x0000, 0x0000, 0x0000, 0x0000, 0x0000, 0x0000, 0x0000, 0x0000, 0x0000, 0x0000, 0x0000, 0x0000, 0x0000, 0x0000, 0x0000, 0x0000, 0x0000, 0x0000, 0x0000, 0x0000, 0x0000, 0x0000, 0x0000, 0x0000, 0x0000, 0x0000, 0x0000, 0x0000, 0x0000, 0x0000, 0x0000, 0x0000, 0x0000, \n",
      " 0x0100, 0x0100, 0x0080, 0x0080, 0x0000, 0x0000, 0x0000, 0x0000, 0x0000, 0x0000, 0x0000, 0x0000, 0x0000, 0x0000, 0x0000, 0x0000, 0x0000, 0x0000, 0x0000, 0x0000, 0x0000, 0x0000, 0x0000, 0x0000, 0x0000, 0x0000, 0x0000, 0x0000, 0x0000, 0x0000, 0x0000, 0x0000, 0x0000, 0x0000, 0x0000, 0x0000, 0x0000, 0x0000, 0x0000, 0x0000, 0x0000, 0x0000, 0x0000, 0x0000, 0x0000, 0x0000, 0x0000, 0x0000, 0x0000, \n",
      " 0x0000, 0x0000, 0x0000, 0x0000, 0x0000, 0x0000, 0x0000, 0x0000, 0x0000, 0x0000, 0x0000, 0x0000, 0x0000, 0x0000, 0x0000, 0x0000, 0x0000, 0x0000, 0x0000, 0x0000, 0x0000, 0x0000, 0x0000, 0x0000, 0x0000, 0x0000, 0x0000, 0x0000, 0x0000, 0x0000, 0x0000, 0x0000, 0x0000, 0x0000, 0x0000, 0x0000, 0x0000, 0x0000, 0x0000, 0x0000, 0x0000, 0x0000, 0x0000, 0x0000, 0x0000, 0x0000, 0x0000, 0x0000, 0x0000, \n",
      " 0x0000, 0x0000, 0x0000, 0x0000, 0x0000, 0x0000, 0x0000, 0x0000, 0x0000, 0x0000, 0x0000, 0x0000, 0x0000, 0x0000, 0x0000, 0x0000, 0x0000, 0x0000, 0x0000, 0x0000, 0x0000, 0x0000, 0x0000, 0x0000, 0x0000, 0x0000, 0x0000, 0x0000, 0x0000, 0x0000, 0x0000, 0x0000, 0x0000, 0x0000, 0x0000, 0x0000, 0x0000, 0x0000, 0x0000, 0x0000, 0x0000, 0x0000, 0x0000, 0x0000, 0x0000, 0x0000, 0x0000, 0x0000, 0x0000\n",
      "}; \n",
      "\n"
     ]
    }
   ],
   "source": [
    "test_image0 = imgs[idx0].data.numpy()[0]\n",
    "test_image1 = imgs[idx1].data.numpy()[0]\n",
    "test_image2 = imgs[idx2].data.numpy()[0]\n",
    "\n",
    "rearranged_test_image0 = rearrange_image_for_memory(test_image0, 7)\n",
    "fxpTest_image0 = Fxp(rearranged_test_image0, signed=True, n_int=7, n_frac=8)\n",
    "\n",
    "rearranged_test_image1 = rearrange_image_for_memory(test_image1, 7)\n",
    "fxpTest_image1 = Fxp(rearranged_test_image1, signed=True, n_int=7, n_frac=8)\n",
    "\n",
    "rearranged_test_image2 = rearrange_image_for_memory(test_image2, 7)\n",
    "fxpTest_image2 = Fxp(rearranged_test_image2, signed=True, n_int=7, n_frac=8)\n",
    "\n",
    "ValsToHFile(fxpTest_image0.hex(), \"testImage0\")\n",
    "ValsToHFile(fxpTest_image1.hex(), \"testImage1\")\n",
    "ValsToHFile(fxpTest_image2.hex(), \"testImage2\")"
   ]
  },
  {
   "cell_type": "code",
   "execution_count": 40,
   "metadata": {},
   "outputs": [
    {
     "name": "stdout",
     "output_type": "stream",
     "text": [
      "(X\"0000\", X\"0000\", X\"0000\", X\"0000\", X\"0000\", X\"0000\", X\"0000\", X\"0000\", X\"0000\", X\"0000\", X\"0000\", X\"0000\", X\"0000\", X\"0000\", X\"0000\", X\"0000\", X\"0000\", X\"0000\", X\"0000\", X\"0000\", X\"0000\", X\"0000\", X\"0000\", X\"0000\", X\"0000\", X\"0000\", X\"0000\", X\"0000\", X\"0000\", X\"0000\", X\"0000\", X\"0000\", X\"0000\", X\"0000\", X\"0000\", X\"0000\", X\"0000\", X\"0000\", X\"0000\", X\"0000\", X\"0000\", X\"0000\", X\"0000\", X\"0000\", X\"0000\", X\"0000\", X\"0000\", X\"0000\", X\"0000\", \n",
      " X\"0000\", X\"0000\", X\"0000\", X\"0000\", X\"0000\", X\"0000\", X\"0000\", X\"0000\", X\"0000\", X\"0000\", X\"0000\", X\"0000\", X\"0000\", X\"0000\", X\"0000\", X\"0000\", X\"0000\", X\"0000\", X\"0000\", X\"0000\", X\"0000\", X\"0000\", X\"0000\", X\"0000\", X\"0000\", X\"0000\", X\"0000\", X\"0000\", X\"0000\", X\"0000\", X\"0000\", X\"0098\", X\"00FE\", X\"00FE\", X\"00FE\", X\"0000\", X\"0000\", X\"0000\", X\"003D\", X\"0052\", X\"00E4\", X\"00FD\", X\"0000\", X\"0000\", X\"0000\", X\"0000\", X\"0035\", X\"00ED\", X\"00FD\", \n",
      " X\"0000\", X\"0000\", X\"0000\", X\"0000\", X\"0000\", X\"0000\", X\"0000\", X\"0000\", X\"0000\", X\"0000\", X\"0000\", X\"0000\", X\"0000\", X\"0000\", X\"0000\", X\"0000\", X\"0000\", X\"0000\", X\"0000\", X\"0000\", X\"0000\", X\"0000\", X\"0000\", X\"0000\", X\"0000\", X\"0000\", X\"0000\", X\"0000\", X\"009E\", X\"0090\", X\"0043\", X\"0006\", X\"0000\", X\"0000\", X\"0000\", X\"00FD\", X\"00FE\", X\"00FD\", X\"0092\", X\"0020\", X\"0000\", X\"0000\", X\"0046\", X\"00A7\", X\"00FD\", X\"00FD\", X\"00DD\", X\"0023\", X\"0000\", \n",
      " X\"0000\", X\"0000\", X\"0000\", X\"0000\", X\"0000\", X\"0000\", X\"0000\", X\"0000\", X\"0000\", X\"0000\", X\"0000\", X\"0000\", X\"0000\", X\"0000\", X\"0000\", X\"0000\", X\"0000\", X\"0000\", X\"0000\", X\"0000\", X\"0000\", X\"0000\", X\"0000\", X\"0000\", X\"0000\", X\"0000\", X\"0000\", X\"0000\", X\"0000\", X\"0000\", X\"0000\", X\"0000\", X\"0000\", X\"0000\", X\"0000\", X\"0000\", X\"0000\", X\"0000\", X\"0000\", X\"0000\", X\"0000\", X\"0000\", X\"0000\", X\"0000\", X\"0000\", X\"0000\", X\"0000\", X\"0000\", X\"0000\", \n",
      " X\"0000\", X\"0000\", X\"0000\", X\"0000\", X\"0000\", X\"0000\", X\"0000\", X\"0000\", X\"0000\", X\"0000\", X\"0000\", X\"0000\", X\"0000\", X\"0000\", X\"0000\", X\"0000\", X\"0000\", X\"0000\", X\"0000\", X\"0000\", X\"0000\", X\"0000\", X\"0000\", X\"0000\", X\"0000\", X\"0000\", X\"0000\", X\"0000\", X\"0000\", X\"0000\", X\"0000\", X\"0000\", X\"0000\", X\"0000\", X\"0000\", X\"0000\", X\"0000\", X\"0000\", X\"0000\", X\"0000\", X\"0000\", X\"0000\", X\"0000\", X\"0000\", X\"0000\", X\"0000\", X\"0000\", X\"0000\", X\"0000\", \n",
      " X\"0000\", X\"0000\", X\"0005\", X\"003D\", X\"00EF\", X\"00FD\", X\"00FD\", X\"0000\", X\"0000\", X\"0050\", X\"00FD\", X\"00FB\", X\"00C6\", X\"00BC\", X\"0000\", X\"0039\", X\"00EB\", X\"00FD\", X\"0075\", X\"0000\", X\"0018\", X\"0000\", X\"0089\", X\"00FD\", X\"00FA\", X\"0015\", X\"0000\", X\"0000\", X\"0012\", X\"00F5\", X\"00FD\", X\"0091\", X\"0000\", X\"0000\", X\"0000\", X\"0085\", X\"00FD\", X\"00D4\", X\"000E\", X\"0000\", X\"0000\", X\"0000\", X\"00D2\", X\"00FD\", X\"00C6\", X\"0000\", X\"0000\", X\"0000\", X\"0000\", \n",
      " X\"0021\", X\"0002\", X\"0075\", X\"00F0\", X\"00FD\", X\"00DF\", X\"001D\", X\"000C\", X\"0000\", X\"0000\", X\"0023\", X\"00DF\", X\"00FD\", X\"0092\", X\"0000\", X\"0000\", X\"0000\", X\"0000\", X\"002E\", X\"00FD\", X\"00FD\", X\"0000\", X\"0000\", X\"0000\", X\"0000\", X\"0002\", X\"0079\", X\"00FD\", X\"0000\", X\"0000\", X\"0000\", X\"0000\", X\"0000\", X\"0016\", X\"00DC\", X\"0000\", X\"0000\", X\"0000\", X\"0000\", X\"0000\", X\"0000\", X\"00C7\", X\"0000\", X\"0000\", X\"0000\", X\"0000\", X\"0000\", X\"0000\", X\"0097\", \n",
      " X\"0000\", X\"0000\", X\"0000\", X\"0000\", X\"0000\", X\"0000\", X\"0000\", X\"0005\", X\"0000\", X\"0000\", X\"0000\", X\"0000\", X\"0000\", X\"0000\", X\"006D\", X\"0000\", X\"0000\", X\"0000\", X\"0000\", X\"0000\", X\"0000\", X\"00B9\", X\"0005\", X\"0000\", X\"0000\", X\"0000\", X\"0000\", X\"0000\", X\"00FD\", X\"0063\", X\"0000\", X\"0000\", X\"0000\", X\"0000\", X\"0000\", X\"00FD\", X\"00B4\", X\"0000\", X\"0000\", X\"0000\", X\"0000\", X\"0000\", X\"00FD\", X\"00D1\", X\"0000\", X\"0000\", X\"0000\", X\"0000\", X\"0000\", \n",
      " X\"0000\", X\"0000\", X\"0000\", X\"0000\", X\"0000\", X\"0000\", X\"0043\", X\"0000\", X\"0000\", X\"0000\", X\"0000\", X\"0000\", X\"0000\", X\"0060\", X\"0000\", X\"0000\", X\"0000\", X\"0000\", X\"0000\", X\"0000\", X\"00B1\", X\"0000\", X\"0000\", X\"0000\", X\"0000\", X\"0000\", X\"0000\", X\"00B1\", X\"0000\", X\"0000\", X\"0000\", X\"0000\", X\"0000\", X\"0000\", X\"00B1\", X\"0000\", X\"0000\", X\"0000\", X\"0000\", X\"0000\", X\"0000\", X\"005B\", X\"0000\", X\"0000\", X\"0000\", X\"0000\", X\"0000\", X\"0000\", X\"0040\", \n",
      " X\"00FE\", X\"00FE\", X\"0058\", X\"0000\", X\"0000\", X\"0000\", X\"0000\", X\"00FD\", X\"00EE\", X\"001B\", X\"0000\", X\"0000\", X\"0000\", X\"0000\", X\"00FD\", X\"00E7\", X\"0000\", X\"0000\", X\"0000\", X\"0000\", X\"0000\", X\"00FD\", X\"007E\", X\"0000\", X\"0000\", X\"0000\", X\"0000\", X\"0000\", X\"00FD\", X\"0091\", X\"0000\", X\"0000\", X\"0000\", X\"0000\", X\"0000\", X\"00FD\", X\"00F9\", X\"0045\", X\"0000\", X\"0000\", X\"0000\", X\"0000\", X\"00FC\", X\"00FD\", X\"00BF\", X\"000C\", X\"0001\", X\"0000\", X\"0000\", \n",
      " X\"0000\", X\"0000\", X\"0000\", X\"0000\", X\"0000\", X\"0000\", X\"0000\", X\"0000\", X\"0000\", X\"0000\", X\"0000\", X\"0000\", X\"0000\", X\"0000\", X\"0000\", X\"0000\", X\"0000\", X\"0000\", X\"0000\", X\"0000\", X\"0076\", X\"0000\", X\"0000\", X\"0000\", X\"0000\", X\"0000\", X\"0005\", X\"00CC\", X\"0000\", X\"0000\", X\"0000\", X\"0000\", X\"0005\", X\"0093\", X\"00FD\", X\"0000\", X\"0000\", X\"0000\", X\"0000\", X\"006E\", X\"00FD\", X\"00FD\", X\"0000\", X\"0007\", X\"0059\", X\"00A5\", X\"00F3\", X\"00FD\", X\"0078\", \n",
      " X\"00E9\", X\"0100\", X\"0042\", X\"0000\", X\"0000\", X\"0000\", X\"0000\", X\"00E8\", X\"00FD\", X\"0042\", X\"0000\", X\"0000\", X\"0000\", X\"0000\", X\"00FA\", X\"00EC\", X\"0028\", X\"0000\", X\"0000\", X\"0000\", X\"0000\", X\"00FD\", X\"0097\", X\"0000\", X\"0000\", X\"0000\", X\"0000\", X\"0000\", X\"00DE\", X\"0023\", X\"0000\", X\"0000\", X\"0000\", X\"0000\", X\"0000\", X\"002D\", X\"0000\", X\"0000\", X\"0000\", X\"0000\", X\"0000\", X\"0000\", X\"0002\", X\"0000\", X\"0000\", X\"0000\", X\"0000\", X\"0000\", X\"0000\", \n",
      " X\"0000\", X\"0000\", X\"0000\", X\"0000\", X\"0000\", X\"0000\", X\"0000\", X\"0000\", X\"0000\", X\"0000\", X\"0000\", X\"0000\", X\"0000\", X\"0000\", X\"0000\", X\"0000\", X\"0000\", X\"0000\", X\"0000\", X\"0000\", X\"0000\", X\"0000\", X\"0000\", X\"0000\", X\"0000\", X\"0000\", X\"0000\", X\"0000\", X\"0000\", X\"0000\", X\"0000\", X\"0000\", X\"0000\", X\"0000\", X\"0000\", X\"0000\", X\"0000\", X\"0000\", X\"0000\", X\"0000\", X\"0000\", X\"0000\", X\"0000\", X\"0000\", X\"0000\", X\"0000\", X\"0000\", X\"0000\", X\"0000\", \n",
      " X\"00BF\", X\"00FD\", X\"00FD\", X\"00FD\", X\"00A3\", X\"0058\", X\"002D\", X\"001A\", X\"00D4\", X\"00FD\", X\"00FD\", X\"00FD\", X\"00FD\", X\"00FD\", X\"0000\", X\"0011\", X\"0069\", X\"008F\", X\"00F4\", X\"00FD\", X\"00FD\", X\"0000\", X\"0000\", X\"0000\", X\"0000\", X\"0000\", X\"0000\", X\"0000\", X\"0000\", X\"0000\", X\"0000\", X\"0000\", X\"0000\", X\"0000\", X\"0000\", X\"0000\", X\"0000\", X\"0000\", X\"0000\", X\"0000\", X\"0000\", X\"0000\", X\"0000\", X\"0000\", X\"0000\", X\"0000\", X\"0000\", X\"0000\", X\"0000\", \n",
      " X\"008D\", X\"00D3\", X\"00FD\", X\"00FD\", X\"00FA\", X\"0088\", X\"0016\", X\"00FD\", X\"00FE\", X\"00C7\", X\"0084\", X\"003C\", X\"0000\", X\"0000\", X\"00FD\", X\"0081\", X\"000A\", X\"0000\", X\"0000\", X\"0000\", X\"0000\", X\"0000\", X\"0000\", X\"0000\", X\"0000\", X\"0000\", X\"0000\", X\"0000\", X\"0000\", X\"0000\", X\"0000\", X\"0000\", X\"0000\", X\"0000\", X\"0000\", X\"0000\", X\"0000\", X\"0000\", X\"0000\", X\"0000\", X\"0000\", X\"0000\", X\"0000\", X\"0000\", X\"0000\", X\"0000\", X\"0000\", X\"0000\", X\"0000\", \n",
      " X\"0000\", X\"0000\", X\"0000\", X\"0000\", X\"0000\", X\"0000\", X\"0000\", X\"0000\", X\"0000\", X\"0000\", X\"0000\", X\"0000\", X\"0000\", X\"0000\", X\"0000\", X\"0000\", X\"0000\", X\"0000\", X\"0000\", X\"0000\", X\"0000\", X\"0000\", X\"0000\", X\"0000\", X\"0000\", X\"0000\", X\"0000\", X\"0000\", X\"0000\", X\"0000\", X\"0000\", X\"0000\", X\"0000\", X\"0000\", X\"0000\", X\"0000\", X\"0000\", X\"0000\", X\"0000\", X\"0000\", X\"0000\", X\"0000\", X\"0000\", X\"0000\", X\"0000\", X\"0000\", X\"0000\", X\"0000\", X\"0000\");\n",
      "\n",
      "(X\"0000\", X\"0000\", X\"0000\", X\"0000\", X\"0000\", X\"0000\", X\"0000\", X\"0000\", X\"0000\", X\"0000\", X\"0000\", X\"0000\", X\"0000\", X\"0000\", X\"0000\", X\"0000\", X\"0000\", X\"0000\", X\"0000\", X\"0000\", X\"0000\", X\"0000\", X\"0000\", X\"0000\", X\"0000\", X\"0000\", X\"0000\", X\"0000\", X\"0000\", X\"0000\", X\"0000\", X\"0000\", X\"0000\", X\"0000\", X\"0000\", X\"0000\", X\"0000\", X\"0000\", X\"0000\", X\"0000\", X\"0000\", X\"0000\", X\"0000\", X\"0000\", X\"0000\", X\"0000\", X\"0000\", X\"0000\", X\"0000\", \n",
      " X\"0000\", X\"0000\", X\"0000\", X\"0000\", X\"0000\", X\"0000\", X\"0000\", X\"0000\", X\"0000\", X\"0000\", X\"0000\", X\"0000\", X\"0000\", X\"0000\", X\"0000\", X\"0000\", X\"0000\", X\"0000\", X\"0000\", X\"0000\", X\"0000\", X\"0000\", X\"0000\", X\"0000\", X\"0000\", X\"0000\", X\"0000\", X\"0000\", X\"0000\", X\"0000\", X\"0000\", X\"0000\", X\"0000\", X\"0032\", X\"0100\", X\"0000\", X\"0000\", X\"0000\", X\"0000\", X\"0000\", X\"0032\", X\"00FD\", X\"0000\", X\"0000\", X\"0000\", X\"0000\", X\"0000\", X\"0032\", X\"00FD\", \n",
      " X\"0000\", X\"0000\", X\"0000\", X\"0000\", X\"0000\", X\"0000\", X\"0000\", X\"0000\", X\"0000\", X\"0000\", X\"0000\", X\"0000\", X\"0000\", X\"0000\", X\"0000\", X\"0000\", X\"0000\", X\"0000\", X\"0000\", X\"0000\", X\"0000\", X\"0000\", X\"0000\", X\"0000\", X\"0000\", X\"0000\", X\"0000\", X\"0000\", X\"00E0\", X\"0020\", X\"0000\", X\"0000\", X\"0000\", X\"0000\", X\"0000\", X\"00FD\", X\"0044\", X\"0000\", X\"0000\", X\"0000\", X\"0000\", X\"0000\", X\"00FD\", X\"00B9\", X\"0000\", X\"0000\", X\"0000\", X\"0000\", X\"0000\", \n",
      " X\"0000\", X\"0000\", X\"0000\", X\"0000\", X\"0000\", X\"0000\", X\"0000\", X\"0000\", X\"0000\", X\"0000\", X\"0000\", X\"0000\", X\"0000\", X\"0000\", X\"0000\", X\"0000\", X\"0000\", X\"0000\", X\"0000\", X\"0000\", X\"0000\", X\"0000\", X\"0000\", X\"0000\", X\"0000\", X\"0000\", X\"0000\", X\"0000\", X\"0000\", X\"0000\", X\"0000\", X\"0000\", X\"0000\", X\"0000\", X\"0000\", X\"0000\", X\"0000\", X\"0000\", X\"0000\", X\"0000\", X\"0000\", X\"0000\", X\"0000\", X\"0000\", X\"0000\", X\"0000\", X\"0000\", X\"0000\", X\"0000\", \n",
      " X\"0000\", X\"0000\", X\"0000\", X\"0000\", X\"0000\", X\"0000\", X\"0000\", X\"0000\", X\"0000\", X\"0000\", X\"0000\", X\"0000\", X\"0000\", X\"0000\", X\"0000\", X\"0000\", X\"0000\", X\"0000\", X\"0000\", X\"0000\", X\"0000\", X\"0000\", X\"0000\", X\"0000\", X\"0000\", X\"0000\", X\"0000\", X\"0000\", X\"0000\", X\"0000\", X\"0000\", X\"0000\", X\"0000\", X\"0000\", X\"0000\", X\"0000\", X\"0000\", X\"0000\", X\"0000\", X\"0000\", X\"0000\", X\"0000\", X\"0000\", X\"0000\", X\"0000\", X\"0000\", X\"0000\", X\"0000\", X\"0000\", \n",
      " X\"0000\", X\"0000\", X\"0000\", X\"0000\", X\"0000\", X\"0032\", X\"00FD\", X\"0000\", X\"0000\", X\"0000\", X\"0000\", X\"0000\", X\"0014\", X\"00D0\", X\"0000\", X\"0000\", X\"0000\", X\"0000\", X\"0000\", X\"0000\", X\"00B4\", X\"0000\", X\"0000\", X\"0000\", X\"0000\", X\"0000\", X\"0000\", X\"00B4\", X\"0000\", X\"0000\", X\"0000\", X\"0000\", X\"0000\", X\"0000\", X\"00B4\", X\"0000\", X\"0000\", X\"0000\", X\"0000\", X\"0000\", X\"0000\", X\"00B4\", X\"0000\", X\"0000\", X\"0000\", X\"0000\", X\"0000\", X\"0000\", X\"00B4\", \n",
      " X\"00FD\", X\"00B9\", X\"0000\", X\"0000\", X\"0000\", X\"0000\", X\"0000\", X\"00FD\", X\"00B9\", X\"0000\", X\"0000\", X\"0000\", X\"0000\", X\"0000\", X\"00FD\", X\"00B9\", X\"0000\", X\"0000\", X\"0000\", X\"0000\", X\"0000\", X\"00FD\", X\"00C5\", X\"000A\", X\"0000\", X\"0000\", X\"0000\", X\"0000\", X\"00FD\", X\"00FD\", X\"0037\", X\"0000\", X\"0000\", X\"0000\", X\"0000\", X\"00FD\", X\"00CD\", X\"0010\", X\"0000\", X\"0000\", X\"0000\", X\"0000\", X\"00FD\", X\"00B9\", X\"0000\", X\"0000\", X\"0000\", X\"0000\", X\"0000\", \n",
      " X\"0000\", X\"0000\", X\"0000\", X\"0000\", X\"0000\", X\"0000\", X\"0000\", X\"0000\", X\"0000\", X\"0000\", X\"0000\", X\"0000\", X\"0000\", X\"0000\", X\"0000\", X\"0000\", X\"0000\", X\"0000\", X\"0000\", X\"0000\", X\"0000\", X\"0000\", X\"0000\", X\"0000\", X\"0000\", X\"0000\", X\"0000\", X\"0000\", X\"0000\", X\"0000\", X\"0000\", X\"0000\", X\"0000\", X\"0000\", X\"0000\", X\"0000\", X\"0000\", X\"0000\", X\"0000\", X\"0000\", X\"0000\", X\"0000\", X\"0000\", X\"0000\", X\"0000\", X\"0000\", X\"0000\", X\"0000\", X\"0000\", \n",
      " X\"0000\", X\"0000\", X\"0000\", X\"0000\", X\"0000\", X\"0000\", X\"0000\", X\"0000\", X\"0000\", X\"0000\", X\"0000\", X\"0000\", X\"0000\", X\"0000\", X\"0000\", X\"0000\", X\"0000\", X\"0000\", X\"0000\", X\"0000\", X\"0000\", X\"0000\", X\"0000\", X\"0000\", X\"0000\", X\"0000\", X\"0000\", X\"0000\", X\"0000\", X\"0000\", X\"0000\", X\"0000\", X\"0000\", X\"0000\", X\"0000\", X\"0000\", X\"0000\", X\"0000\", X\"0000\", X\"0000\", X\"0000\", X\"0000\", X\"0000\", X\"0000\", X\"0000\", X\"0000\", X\"0000\", X\"0000\", X\"0000\", \n",
      " X\"0000\", X\"0000\", X\"0000\", X\"0000\", X\"0000\", X\"0000\", X\"00B4\", X\"0000\", X\"0000\", X\"0000\", X\"0000\", X\"0000\", X\"0000\", X\"00B4\", X\"0000\", X\"0000\", X\"0000\", X\"0000\", X\"0000\", X\"0000\", X\"00B4\", X\"0000\", X\"0000\", X\"0000\", X\"0000\", X\"0000\", X\"0000\", X\"00B4\", X\"0000\", X\"0000\", X\"0000\", X\"0000\", X\"0000\", X\"0000\", X\"004A\", X\"0000\", X\"0000\", X\"0000\", X\"0000\", X\"0000\", X\"0000\", X\"0038\", X\"0000\", X\"0000\", X\"0000\", X\"0000\", X\"0000\", X\"0000\", X\"0038\", \n",
      " X\"00FD\", X\"00B9\", X\"0000\", X\"0000\", X\"0000\", X\"0000\", X\"0000\", X\"00FD\", X\"00B9\", X\"0000\", X\"0000\", X\"0000\", X\"0000\", X\"0000\", X\"00FD\", X\"00F0\", X\"002D\", X\"0000\", X\"0000\", X\"0000\", X\"0000\", X\"00FD\", X\"00FD\", X\"0037\", X\"0000\", X\"0000\", X\"0000\", X\"0000\", X\"00FD\", X\"00FD\", X\"00A1\", X\"0000\", X\"0000\", X\"0000\", X\"0000\", X\"00FD\", X\"00FD\", X\"00B3\", X\"0000\", X\"0000\", X\"0000\", X\"0000\", X\"00FD\", X\"00FD\", X\"00F6\", X\"002C\", X\"0000\", X\"0000\", X\"0000\", \n",
      " X\"0000\", X\"0000\", X\"0000\", X\"0000\", X\"0000\", X\"0000\", X\"0000\", X\"0000\", X\"0000\", X\"0000\", X\"0000\", X\"0000\", X\"0000\", X\"0000\", X\"0000\", X\"0000\", X\"0000\", X\"0000\", X\"0000\", X\"0000\", X\"0000\", X\"0000\", X\"0000\", X\"0000\", X\"0000\", X\"0000\", X\"0000\", X\"0000\", X\"0000\", X\"0000\", X\"0000\", X\"0000\", X\"0000\", X\"0000\", X\"0000\", X\"0000\", X\"0000\", X\"0000\", X\"0000\", X\"0000\", X\"0000\", X\"0000\", X\"0000\", X\"0000\", X\"0000\", X\"0000\", X\"0000\", X\"0000\", X\"0000\", \n",
      " X\"0000\", X\"0000\", X\"0000\", X\"0000\", X\"0000\", X\"0000\", X\"0000\", X\"0000\", X\"0000\", X\"0000\", X\"0000\", X\"0000\", X\"0000\", X\"0000\", X\"0000\", X\"0000\", X\"0000\", X\"0000\", X\"0000\", X\"0000\", X\"0000\", X\"0000\", X\"0000\", X\"0000\", X\"0000\", X\"0000\", X\"0000\", X\"0000\", X\"0000\", X\"0000\", X\"0000\", X\"0000\", X\"0000\", X\"0000\", X\"0000\", X\"0000\", X\"0000\", X\"0000\", X\"0000\", X\"0000\", X\"0000\", X\"0000\", X\"0000\", X\"0000\", X\"0000\", X\"0000\", X\"0000\", X\"0000\", X\"0000\", \n",
      " X\"0000\", X\"0000\", X\"0000\", X\"0000\", X\"0000\", X\"0000\", X\"0038\", X\"0000\", X\"0000\", X\"0000\", X\"0000\", X\"0000\", X\"0000\", X\"0003\", X\"0000\", X\"0000\", X\"0000\", X\"0000\", X\"0000\", X\"0000\", X\"0000\", X\"0000\", X\"0000\", X\"0000\", X\"0000\", X\"0000\", X\"0000\", X\"0000\", X\"0000\", X\"0000\", X\"0000\", X\"0000\", X\"0000\", X\"0000\", X\"0000\", X\"0000\", X\"0000\", X\"0000\", X\"0000\", X\"0000\", X\"0000\", X\"0000\", X\"0000\", X\"0000\", X\"0000\", X\"0000\", X\"0000\", X\"0000\", X\"0000\", \n",
      " X\"00FD\", X\"00FD\", X\"00FD\", X\"0031\", X\"0000\", X\"0000\", X\"0000\", X\"00BD\", X\"00FD\", X\"00FD\", X\"0031\", X\"0000\", X\"0000\", X\"0000\", X\"00BA\", X\"00FD\", X\"00D9\", X\"0019\", X\"0000\", X\"0000\", X\"0000\", X\"0000\", X\"0000\", X\"0000\", X\"0000\", X\"0000\", X\"0000\", X\"0000\", X\"0000\", X\"0000\", X\"0000\", X\"0000\", X\"0000\", X\"0000\", X\"0000\", X\"0000\", X\"0000\", X\"0000\", X\"0000\", X\"0000\", X\"0000\", X\"0000\", X\"0000\", X\"0000\", X\"0000\", X\"0000\", X\"0000\", X\"0000\", X\"0000\", \n",
      " X\"0000\", X\"0000\", X\"0000\", X\"0000\", X\"0000\", X\"0000\", X\"0000\", X\"0000\", X\"0000\", X\"0000\", X\"0000\", X\"0000\", X\"0000\", X\"0000\", X\"0000\", X\"0000\", X\"0000\", X\"0000\", X\"0000\", X\"0000\", X\"0000\", X\"0000\", X\"0000\", X\"0000\", X\"0000\", X\"0000\", X\"0000\", X\"0000\", X\"0000\", X\"0000\", X\"0000\", X\"0000\", X\"0000\", X\"0000\", X\"0000\", X\"0000\", X\"0000\", X\"0000\", X\"0000\", X\"0000\", X\"0000\", X\"0000\", X\"0000\", X\"0000\", X\"0000\", X\"0000\", X\"0000\", X\"0000\", X\"0000\");\n",
      "\n",
      "(X\"0000\", X\"0000\", X\"0000\", X\"0000\", X\"0000\", X\"0000\", X\"0000\", X\"0000\", X\"0000\", X\"0000\", X\"0000\", X\"0000\", X\"0000\", X\"0000\", X\"0000\", X\"0000\", X\"0000\", X\"0000\", X\"0000\", X\"0000\", X\"0000\", X\"0000\", X\"0000\", X\"0000\", X\"0000\", X\"0000\", X\"0000\", X\"0000\", X\"0000\", X\"0000\", X\"0000\", X\"0000\", X\"0000\", X\"0000\", X\"0000\", X\"0000\", X\"0000\", X\"0000\", X\"0000\", X\"0000\", X\"0000\", X\"0003\", X\"0000\", X\"0000\", X\"0000\", X\"0000\", X\"0000\", X\"0004\", X\"007E\", \n",
      " X\"0000\", X\"0000\", X\"0000\", X\"0000\", X\"0000\", X\"0000\", X\"0000\", X\"0000\", X\"0000\", X\"0000\", X\"0000\", X\"0000\", X\"0000\", X\"0000\", X\"0000\", X\"0000\", X\"0000\", X\"0000\", X\"0000\", X\"0000\", X\"0000\", X\"0000\", X\"0000\", X\"0000\", X\"0000\", X\"0000\", X\"0000\", X\"0000\", X\"0000\", X\"0000\", X\"0000\", X\"0000\", X\"0000\", X\"0000\", X\"0000\", X\"0029\", X\"00A7\", X\"00FD\", X\"00FD\", X\"00FD\", X\"00FD\", X\"0100\", X\"00FC\", X\"00FC\", X\"00FC\", X\"00E7\", X\"00E4\", X\"00E4\", X\"00E5\", \n",
      " X\"0000\", X\"0000\", X\"0000\", X\"0000\", X\"0000\", X\"0000\", X\"0000\", X\"0000\", X\"0000\", X\"0000\", X\"0000\", X\"0000\", X\"0000\", X\"0000\", X\"0000\", X\"0000\", X\"0000\", X\"0000\", X\"0000\", X\"0000\", X\"0000\", X\"0000\", X\"0000\", X\"0000\", X\"0000\", X\"0000\", X\"0000\", X\"0000\", X\"0000\", X\"0000\", X\"0000\", X\"0000\", X\"0000\", X\"0000\", X\"0000\", X\"00F2\", X\"0084\", X\"0032\", X\"0000\", X\"0000\", X\"0000\", X\"0000\", X\"00F2\", X\"00FC\", X\"00E7\", X\"0035\", X\"0000\", X\"0000\", X\"0000\", \n",
      " X\"0000\", X\"0000\", X\"0000\", X\"0000\", X\"0000\", X\"0000\", X\"0000\", X\"0000\", X\"0000\", X\"0000\", X\"0000\", X\"0000\", X\"0000\", X\"0000\", X\"0000\", X\"0000\", X\"0000\", X\"0000\", X\"0000\", X\"0000\", X\"0000\", X\"0000\", X\"0000\", X\"0000\", X\"0000\", X\"0000\", X\"0000\", X\"0000\", X\"0000\", X\"0000\", X\"0000\", X\"0000\", X\"0000\", X\"0000\", X\"0000\", X\"0000\", X\"0000\", X\"0000\", X\"0000\", X\"0000\", X\"0000\", X\"0000\", X\"0000\", X\"0000\", X\"0000\", X\"0000\", X\"0000\", X\"0000\", X\"0000\", \n",
      " X\"0000\", X\"0000\", X\"0000\", X\"0000\", X\"0000\", X\"0036\", X\"00FC\", X\"0000\", X\"0000\", X\"0000\", X\"0000\", X\"0000\", X\"0085\", X\"00DC\", X\"0000\", X\"0000\", X\"0000\", X\"0000\", X\"0000\", X\"000B\", X\"0018\", X\"0000\", X\"0000\", X\"0000\", X\"0000\", X\"0000\", X\"0000\", X\"0000\", X\"0000\", X\"0000\", X\"0000\", X\"0000\", X\"0000\", X\"0000\", X\"0000\", X\"0000\", X\"0000\", X\"0000\", X\"0000\", X\"0000\", X\"0000\", X\"0000\", X\"0000\", X\"0000\", X\"0000\", X\"0000\", X\"0000\", X\"0000\", X\"0000\", \n",
      " X\"00F3\", X\"007C\", X\"0060\", X\"000E\", X\"0000\", X\"0000\", X\"0000\", X\"0062\", X\"0000\", X\"0000\", X\"0000\", X\"0000\", X\"0000\", X\"0000\", X\"0000\", X\"0000\", X\"0000\", X\"0000\", X\"0000\", X\"0000\", X\"0000\", X\"0000\", X\"0000\", X\"0000\", X\"0000\", X\"0000\", X\"0000\", X\"0000\", X\"0000\", X\"0000\", X\"0000\", X\"0000\", X\"0000\", X\"0000\", X\"0000\", X\"0000\", X\"0000\", X\"0000\", X\"0000\", X\"0000\", X\"0000\", X\"0000\", X\"0000\", X\"0000\", X\"0000\", X\"0000\", X\"0000\", X\"0000\", X\"0000\", \n",
      " X\"0043\", X\"00DD\", X\"00FC\", X\"00C8\", X\"0009\", X\"0000\", X\"0000\", X\"0000\", X\"001E\", X\"00EC\", X\"00FC\", X\"003C\", X\"0000\", X\"0000\", X\"0000\", X\"0009\", X\"00BD\", X\"00FC\", X\"003C\", X\"0000\", X\"0000\", X\"0000\", X\"0047\", X\"00FC\", X\"00FC\", X\"003C\", X\"0000\", X\"0000\", X\"0000\", X\"009D\", X\"00FC\", X\"00CB\", X\"000C\", X\"0000\", X\"0000\", X\"0015\", X\"00EF\", X\"00FC\", X\"00C0\", X\"0000\", X\"0000\", X\"0000\", X\"0019\", X\"00FC\", X\"00FC\", X\"008C\", X\"0000\", X\"0000\", X\"0000\", \n",
      " X\"0000\", X\"0000\", X\"0000\", X\"0000\", X\"0000\", X\"0000\", X\"0000\", X\"0000\", X\"0000\", X\"0000\", X\"0000\", X\"0000\", X\"0000\", X\"0000\", X\"0000\", X\"0000\", X\"0000\", X\"0000\", X\"0000\", X\"0000\", X\"0000\", X\"0000\", X\"0000\", X\"0000\", X\"0000\", X\"0000\", X\"0000\", X\"0000\", X\"0000\", X\"0000\", X\"0000\", X\"0000\", X\"0000\", X\"0000\", X\"0000\", X\"0000\", X\"0000\", X\"0000\", X\"0000\", X\"0000\", X\"0000\", X\"0000\", X\"0000\", X\"0000\", X\"0000\", X\"0000\", X\"0000\", X\"0000\", X\"0000\", \n",
      " X\"0000\", X\"0000\", X\"0000\", X\"0000\", X\"0000\", X\"0000\", X\"0000\", X\"0000\", X\"0000\", X\"0000\", X\"0000\", X\"0000\", X\"0000\", X\"0000\", X\"0000\", X\"0000\", X\"0000\", X\"0000\", X\"0000\", X\"0000\", X\"0000\", X\"0000\", X\"0000\", X\"0000\", X\"0000\", X\"0000\", X\"0000\", X\"0000\", X\"0000\", X\"0000\", X\"0000\", X\"0000\", X\"0000\", X\"0000\", X\"0000\", X\"0000\", X\"0000\", X\"0000\", X\"0000\", X\"0000\", X\"0000\", X\"0000\", X\"0000\", X\"0000\", X\"0000\", X\"0000\", X\"0000\", X\"0000\", X\"0000\", \n",
      " X\"0000\", X\"0000\", X\"0000\", X\"0000\", X\"0000\", X\"0000\", X\"0000\", X\"0000\", X\"0000\", X\"0000\", X\"0000\", X\"0000\", X\"0000\", X\"0012\", X\"0000\", X\"0000\", X\"0000\", X\"0000\", X\"0000\", X\"0000\", X\"0090\", X\"0000\", X\"0000\", X\"0000\", X\"0000\", X\"0000\", X\"0012\", X\"00FD\", X\"0000\", X\"0000\", X\"0000\", X\"0000\", X\"0000\", X\"00C9\", X\"00FD\", X\"0000\", X\"0000\", X\"0000\", X\"0000\", X\"0000\", X\"00F1\", X\"00FD\", X\"0000\", X\"0000\", X\"0000\", X\"0000\", X\"0054\", X\"00FA\", X\"00FD\", \n",
      " X\"008B\", X\"00FC\", X\"00CE\", X\"0004\", X\"0000\", X\"0000\", X\"0000\", X\"00FD\", X\"00FD\", X\"00C7\", X\"0000\", X\"0000\", X\"0000\", X\"0000\", X\"00FC\", X\"00FC\", X\"0054\", X\"0000\", X\"0000\", X\"0000\", X\"0000\", X\"00FC\", X\"00D4\", X\"0020\", X\"0000\", X\"0000\", X\"001E\", X\"0051\", X\"00F7\", X\"004E\", X\"0000\", X\"000C\", X\"0054\", X\"00ED\", X\"009B\", X\"00E4\", X\"0000\", X\"0040\", X\"00C6\", X\"00FC\", X\"00FC\", X\"009B\", X\"00F6\", X\"00C1\", X\"00E9\", X\"00FC\", X\"00FC\", X\"00C1\", X\"0036\", \n",
      " X\"0000\", X\"0000\", X\"0000\", X\"0000\", X\"0000\", X\"0000\", X\"0000\", X\"0000\", X\"0000\", X\"0000\", X\"0000\", X\"0000\", X\"0000\", X\"0000\", X\"0000\", X\"0000\", X\"0000\", X\"0000\", X\"0000\", X\"0000\", X\"0000\", X\"0000\", X\"0000\", X\"0000\", X\"0000\", X\"0000\", X\"0000\", X\"0000\", X\"0000\", X\"0000\", X\"0000\", X\"0000\", X\"0000\", X\"0000\", X\"0000\", X\"0000\", X\"0000\", X\"0000\", X\"0000\", X\"0000\", X\"0000\", X\"0000\", X\"0000\", X\"0000\", X\"0000\", X\"0000\", X\"0000\", X\"0000\", X\"0000\", \n",
      " X\"0000\", X\"0000\", X\"0000\", X\"0000\", X\"0000\", X\"0000\", X\"0000\", X\"0000\", X\"0000\", X\"0000\", X\"0000\", X\"0000\", X\"0000\", X\"0000\", X\"0000\", X\"0000\", X\"0000\", X\"0000\", X\"0000\", X\"0000\", X\"0000\", X\"0000\", X\"0000\", X\"0000\", X\"0000\", X\"0000\", X\"0000\", X\"0000\", X\"0000\", X\"0000\", X\"0000\", X\"0000\", X\"0000\", X\"0000\", X\"0000\", X\"0000\", X\"0000\", X\"0000\", X\"0000\", X\"0000\", X\"0000\", X\"0000\", X\"0000\", X\"0000\", X\"0000\", X\"0000\", X\"0000\", X\"0000\", X\"0000\", \n",
      " X\"0000\", X\"0000\", X\"0000\", X\"0021\", X\"00D6\", X\"00FC\", X\"00FD\", X\"0000\", X\"0000\", X\"0000\", X\"0061\", X\"00FC\", X\"00FC\", X\"00FD\", X\"0000\", X\"0000\", X\"0000\", X\"00CE\", X\"00FC\", X\"00FC\", X\"00FD\", X\"0000\", X\"0000\", X\"0000\", X\"009F\", X\"00FC\", X\"00C2\", X\"0045\", X\"0000\", X\"0000\", X\"0000\", X\"0000\", X\"0000\", X\"0000\", X\"0000\", X\"0000\", X\"0000\", X\"0000\", X\"0000\", X\"0000\", X\"0000\", X\"0000\", X\"0000\", X\"0000\", X\"0000\", X\"0000\", X\"0000\", X\"0000\", X\"0000\", \n",
      " X\"00FC\", X\"00FC\", X\"00FC\", X\"00E8\", X\"0085\", X\"0009\", X\"0000\", X\"00FC\", X\"00EE\", X\"0084\", X\"001B\", X\"0000\", X\"0000\", X\"0000\", X\"00F2\", X\"0042\", X\"0000\", X\"0000\", X\"0000\", X\"0000\", X\"0000\", X\"000A\", X\"0000\", X\"0000\", X\"0000\", X\"0000\", X\"0000\", X\"0000\", X\"0000\", X\"0000\", X\"0000\", X\"0000\", X\"0000\", X\"0000\", X\"0000\", X\"0000\", X\"0000\", X\"0000\", X\"0000\", X\"0000\", X\"0000\", X\"0000\", X\"0000\", X\"0000\", X\"0000\", X\"0000\", X\"0000\", X\"0000\", X\"0000\", \n",
      " X\"0000\", X\"0000\", X\"0000\", X\"0000\", X\"0000\", X\"0000\", X\"0000\", X\"0000\", X\"0000\", X\"0000\", X\"0000\", X\"0000\", X\"0000\", X\"0000\", X\"0000\", X\"0000\", X\"0000\", X\"0000\", X\"0000\", X\"0000\", X\"0000\", X\"0000\", X\"0000\", X\"0000\", X\"0000\", X\"0000\", X\"0000\", X\"0000\", X\"0000\", X\"0000\", X\"0000\", X\"0000\", X\"0000\", X\"0000\", X\"0000\", X\"0000\", X\"0000\", X\"0000\", X\"0000\", X\"0000\", X\"0000\", X\"0000\", X\"0000\", X\"0000\", X\"0000\", X\"0000\", X\"0000\", X\"0000\", X\"0000\");\n",
      "\n",
      "(X\"FED5\", X\"FFE4\", X\"FFDE\", X\"FFEF\", X\"004D\", X\"003A\", X\"0039\", X\"FFEF\", X\"00B1\", X\"FF32\", X\"00C9\", X\"FF09\", X\"FF8A\", X\"008D\", X\"FFFC\", X\"FF63\", \n",
      " X\"0095\", X\"FF60\", X\"FFD6\", X\"015F\", X\"FF9B\", X\"0005\", X\"FF6F\", X\"FFED\", X\"FF6C\", X\"003E\", X\"FE6C\", X\"006D\", X\"0034\", X\"FFB8\", X\"FFC7\", X\"012A\", \n",
      " X\"FFC3\", X\"008C\", X\"FFBA\", X\"FE48\", X\"0010\", X\"FF9D\", X\"0003\", X\"0008\", X\"0095\", X\"004E\", X\"00B3\", X\"0044\", X\"FFE9\", X\"FFE4\", X\"0038\", X\"FF0F\");\n",
      "\n"
     ]
    }
   ],
   "source": [
    "weightsToVHDL(fxpTest_image0.hex())\n",
    "weightsToVHDL(fxpTest_image1.hex())\n",
    "weightsToVHDL(fxpTest_image2.hex())\n"
   ]
  },
  {
   "cell_type": "code",
   "execution_count": 39,
   "metadata": {},
   "outputs": [
    {
     "name": "stdout",
     "output_type": "stream",
     "text": [
      "49\n"
     ]
    }
   ],
   "source": [
    "print(len(fxpTest_image0.hex()[0]))"
   ]
  },
  {
   "cell_type": "code",
   "execution_count": null,
   "metadata": {},
   "outputs": [],
   "source": [
    "tf = transforms.Compose([\n",
    "    ToTensor(), \n",
    "    transforms.CenterCrop(240), \n",
    "    transforms.Resize(16), \n",
    "    lambda x: transforms.functional.rotate(x, 180)\n",
    "])\n",
    "custom_test = datasets.ImageFolder('custom_data/', transform=tf)"
   ]
  }
 ],
 "metadata": {
  "kernelspec": {
   "display_name": "Python",
   "language": "python",
   "name": "python3"
  },
  "language_info": {
   "codemirror_mode": {
    "name": "ipython",
    "version": 3
   },
   "file_extension": ".py",
   "mimetype": "text/x-python",
   "name": "python",
   "nbconvert_exporter": "python",
   "pygments_lexer": "ipython3",
   "version": "3.10.0"
  }
 },
 "nbformat": 4,
 "nbformat_minor": 4
}
